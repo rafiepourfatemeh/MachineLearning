{
 "cells": [
  {
   "cell_type": "code",
   "execution_count": 1,
   "id": "0998a8c6",
   "metadata": {},
   "outputs": [
    {
     "data": {
      "text/html": [
       "<div>\n",
       "<style scoped>\n",
       "    .dataframe tbody tr th:only-of-type {\n",
       "        vertical-align: middle;\n",
       "    }\n",
       "\n",
       "    .dataframe tbody tr th {\n",
       "        vertical-align: top;\n",
       "    }\n",
       "\n",
       "    .dataframe thead th {\n",
       "        text-align: right;\n",
       "    }\n",
       "</style>\n",
       "<table border=\"1\" class=\"dataframe\">\n",
       "  <thead>\n",
       "    <tr style=\"text-align: right;\">\n",
       "      <th></th>\n",
       "      <th>Area</th>\n",
       "      <th>Room</th>\n",
       "      <th>Parking</th>\n",
       "      <th>Warehouse</th>\n",
       "      <th>Elevator</th>\n",
       "      <th>Address</th>\n",
       "      <th>Price</th>\n",
       "      <th>Price(USD)</th>\n",
       "    </tr>\n",
       "  </thead>\n",
       "  <tbody>\n",
       "    <tr>\n",
       "      <th>0</th>\n",
       "      <td>63</td>\n",
       "      <td>1</td>\n",
       "      <td>True</td>\n",
       "      <td>True</td>\n",
       "      <td>True</td>\n",
       "      <td>Shahran</td>\n",
       "      <td>1.850000e+09</td>\n",
       "      <td>61666.67</td>\n",
       "    </tr>\n",
       "    <tr>\n",
       "      <th>1</th>\n",
       "      <td>60</td>\n",
       "      <td>1</td>\n",
       "      <td>True</td>\n",
       "      <td>True</td>\n",
       "      <td>True</td>\n",
       "      <td>Shahran</td>\n",
       "      <td>1.850000e+09</td>\n",
       "      <td>61666.67</td>\n",
       "    </tr>\n",
       "    <tr>\n",
       "      <th>2</th>\n",
       "      <td>79</td>\n",
       "      <td>2</td>\n",
       "      <td>True</td>\n",
       "      <td>True</td>\n",
       "      <td>True</td>\n",
       "      <td>Pardis</td>\n",
       "      <td>5.500000e+08</td>\n",
       "      <td>18333.33</td>\n",
       "    </tr>\n",
       "    <tr>\n",
       "      <th>3</th>\n",
       "      <td>95</td>\n",
       "      <td>2</td>\n",
       "      <td>True</td>\n",
       "      <td>True</td>\n",
       "      <td>True</td>\n",
       "      <td>Shahrake Qods</td>\n",
       "      <td>9.025000e+08</td>\n",
       "      <td>30083.33</td>\n",
       "    </tr>\n",
       "    <tr>\n",
       "      <th>4</th>\n",
       "      <td>123</td>\n",
       "      <td>2</td>\n",
       "      <td>True</td>\n",
       "      <td>True</td>\n",
       "      <td>True</td>\n",
       "      <td>Shahrake Gharb</td>\n",
       "      <td>7.000000e+09</td>\n",
       "      <td>233333.33</td>\n",
       "    </tr>\n",
       "    <tr>\n",
       "      <th>...</th>\n",
       "      <td>...</td>\n",
       "      <td>...</td>\n",
       "      <td>...</td>\n",
       "      <td>...</td>\n",
       "      <td>...</td>\n",
       "      <td>...</td>\n",
       "      <td>...</td>\n",
       "      <td>...</td>\n",
       "    </tr>\n",
       "    <tr>\n",
       "      <th>3474</th>\n",
       "      <td>86</td>\n",
       "      <td>2</td>\n",
       "      <td>True</td>\n",
       "      <td>True</td>\n",
       "      <td>True</td>\n",
       "      <td>Southern Janatabad</td>\n",
       "      <td>3.500000e+09</td>\n",
       "      <td>116666.67</td>\n",
       "    </tr>\n",
       "    <tr>\n",
       "      <th>3475</th>\n",
       "      <td>83</td>\n",
       "      <td>2</td>\n",
       "      <td>True</td>\n",
       "      <td>True</td>\n",
       "      <td>True</td>\n",
       "      <td>Niavaran</td>\n",
       "      <td>6.800000e+09</td>\n",
       "      <td>226666.67</td>\n",
       "    </tr>\n",
       "    <tr>\n",
       "      <th>3476</th>\n",
       "      <td>75</td>\n",
       "      <td>2</td>\n",
       "      <td>False</td>\n",
       "      <td>False</td>\n",
       "      <td>False</td>\n",
       "      <td>Parand</td>\n",
       "      <td>3.650000e+08</td>\n",
       "      <td>12166.67</td>\n",
       "    </tr>\n",
       "    <tr>\n",
       "      <th>3477</th>\n",
       "      <td>105</td>\n",
       "      <td>2</td>\n",
       "      <td>True</td>\n",
       "      <td>True</td>\n",
       "      <td>True</td>\n",
       "      <td>Dorous</td>\n",
       "      <td>5.600000e+09</td>\n",
       "      <td>186666.67</td>\n",
       "    </tr>\n",
       "    <tr>\n",
       "      <th>3478</th>\n",
       "      <td>82</td>\n",
       "      <td>2</td>\n",
       "      <td>False</td>\n",
       "      <td>True</td>\n",
       "      <td>True</td>\n",
       "      <td>Parand</td>\n",
       "      <td>3.600000e+08</td>\n",
       "      <td>12000.00</td>\n",
       "    </tr>\n",
       "  </tbody>\n",
       "</table>\n",
       "<p>3479 rows × 8 columns</p>\n",
       "</div>"
      ],
      "text/plain": [
       "     Area  Room  Parking  Warehouse  Elevator             Address  \\\n",
       "0      63     1     True       True      True             Shahran   \n",
       "1      60     1     True       True      True             Shahran   \n",
       "2      79     2     True       True      True              Pardis   \n",
       "3      95     2     True       True      True       Shahrake Qods   \n",
       "4     123     2     True       True      True      Shahrake Gharb   \n",
       "...   ...   ...      ...        ...       ...                 ...   \n",
       "3474   86     2     True       True      True  Southern Janatabad   \n",
       "3475   83     2     True       True      True            Niavaran   \n",
       "3476   75     2    False      False     False              Parand   \n",
       "3477  105     2     True       True      True              Dorous   \n",
       "3478   82     2    False       True      True              Parand   \n",
       "\n",
       "             Price  Price(USD)  \n",
       "0     1.850000e+09    61666.67  \n",
       "1     1.850000e+09    61666.67  \n",
       "2     5.500000e+08    18333.33  \n",
       "3     9.025000e+08    30083.33  \n",
       "4     7.000000e+09   233333.33  \n",
       "...            ...         ...  \n",
       "3474  3.500000e+09   116666.67  \n",
       "3475  6.800000e+09   226666.67  \n",
       "3476  3.650000e+08    12166.67  \n",
       "3477  5.600000e+09   186666.67  \n",
       "3478  3.600000e+08    12000.00  \n",
       "\n",
       "[3479 rows x 8 columns]"
      ]
     },
     "execution_count": 1,
     "metadata": {},
     "output_type": "execute_result"
    }
   ],
   "source": [
    "import pandas as pd\n",
    "import numpy as np\n",
    "mydata_house=pd.read_csv(('house.csv'))\n",
    "mydata_house"
   ]
  },
  {
   "cell_type": "code",
   "execution_count": 2,
   "id": "8ede7006",
   "metadata": {},
   "outputs": [
    {
     "data": {
      "text/plain": [
       "Area           object\n",
       "Room            int64\n",
       "Parking          bool\n",
       "Warehouse        bool\n",
       "Elevator         bool\n",
       "Address        object\n",
       "Price         float64\n",
       "Price(USD)    float64\n",
       "dtype: object"
      ]
     },
     "execution_count": 2,
     "metadata": {},
     "output_type": "execute_result"
    }
   ],
   "source": [
    "mydata_house.dtypes"
   ]
  },
  {
   "cell_type": "code",
   "execution_count": 3,
   "id": "e0fed25f",
   "metadata": {},
   "outputs": [
    {
     "data": {
      "text/plain": [
       "Area          float64\n",
       "Room            int64\n",
       "Parking         int64\n",
       "Warehouse       int64\n",
       "Elevator        int64\n",
       "Address        object\n",
       "Price         float64\n",
       "Price(USD)    float64\n",
       "dtype: object"
      ]
     },
     "execution_count": 3,
     "metadata": {},
     "output_type": "execute_result"
    }
   ],
   "source": [
    "mydata_house['Area']=pd.to_numeric(mydata_house.Area,errors='coerce')# change type : Area\n",
    "mydata_house.replace({False:0,True:1},inplace=True)# change type : Parking  and Warehouse and Elevator \n",
    "mydata_house.dtypes"
   ]
  },
  {
   "cell_type": "code",
   "execution_count": 4,
   "id": "6e58c9ae",
   "metadata": {},
   "outputs": [
    {
     "data": {
      "text/plain": [
       "Area           6\n",
       "Room           0\n",
       "Parking        0\n",
       "Warehouse      0\n",
       "Elevator       0\n",
       "Address       23\n",
       "Price          0\n",
       "Price(USD)     0\n",
       "dtype: int64"
      ]
     },
     "execution_count": 4,
     "metadata": {},
     "output_type": "execute_result"
    }
   ],
   "source": [
    "mydata_house.isnull().sum()"
   ]
  },
  {
   "cell_type": "code",
   "execution_count": 5,
   "id": "2ab9e74f",
   "metadata": {
    "scrolled": true
   },
   "outputs": [
    {
     "data": {
      "text/plain": [
       "(3456, 8)"
      ]
     },
     "execution_count": 5,
     "metadata": {},
     "output_type": "execute_result"
    }
   ],
   "source": [
    "mydata_house.drop(index=mydata_house.Address[mydata_house.Address.isnull()].index,inplace=True)#drop null : Address\n",
    "mydata_house.shape"
   ]
  },
  {
   "cell_type": "code",
   "execution_count": 6,
   "id": "af9a9485",
   "metadata": {},
   "outputs": [
    {
     "data": {
      "text/plain": [
       "(3450, 8)"
      ]
     },
     "execution_count": 6,
     "metadata": {},
     "output_type": "execute_result"
    }
   ],
   "source": [
    "mydata_house.drop(index=mydata_house.Area[mydata_house.Area.isnull()].index,inplace=True)#drop null : Area\n",
    "mydata_house.shape"
   ]
  },
  {
   "cell_type": "code",
   "execution_count": 7,
   "id": "deec707a",
   "metadata": {},
   "outputs": [
    {
     "data": {
      "text/plain": [
       "(3242, 8)"
      ]
     },
     "execution_count": 7,
     "metadata": {},
     "output_type": "execute_result"
    }
   ],
   "source": [
    "mydata_house.drop_duplicates(inplace=True)\n",
    "mydata_house.shape"
   ]
  },
  {
   "cell_type": "code",
   "execution_count": 8,
   "id": "0a293ffb",
   "metadata": {},
   "outputs": [],
   "source": [
    "mydata_house.reset_index(drop=True,inplace=True)"
   ]
  },
  {
   "cell_type": "code",
   "execution_count": 9,
   "id": "9c3e2517",
   "metadata": {},
   "outputs": [
    {
     "data": {
      "text/plain": [
       "0       120\n",
       "1       120\n",
       "2       144\n",
       "3        81\n",
       "4       107\n",
       "       ... \n",
       "3237     18\n",
       "3238    155\n",
       "3239     47\n",
       "3240      9\n",
       "3241      8\n",
       "Name: Address, Length: 3242, dtype: int64"
      ]
     },
     "execution_count": 9,
     "metadata": {},
     "output_type": "execute_result"
    }
   ],
   "source": [
    "address=set(mydata_house.Address)\n",
    "Address={}\n",
    "for i ,j in enumerate(address,start=1):\n",
    "    x={j:i}\n",
    "    Address.update(x)\n",
    "number_adaress=mydata_house.Address.map(lambda s:Address.get(s) if s in Address else s)\n",
    "number_adaress"
   ]
  },
  {
   "cell_type": "code",
   "execution_count": 10,
   "id": "33694460",
   "metadata": {},
   "outputs": [
    {
     "data": {
      "text/plain": [
       "0       3.668519e+07\n",
       "1       3.668519e+07\n",
       "2       8.204639e+06\n",
       "3       1.000572e+07\n",
       "4       8.625069e+07\n",
       "            ...     \n",
       "3237    3.738220e+07\n",
       "3238    3.945778e+07\n",
       "3239    1.106100e+08\n",
       "3240    9.718675e+07\n",
       "3241    6.521264e+06\n",
       "Name: Address, Length: 3242, dtype: float64"
      ]
     },
     "execution_count": 10,
     "metadata": {},
     "output_type": "execute_result"
    }
   ],
   "source": [
    "address=set(mydata_house.Address)\n",
    "Address={}\n",
    "for i in address:\n",
    "    j=mydata_house[mydata_house['Address']==i].Price.sum()/mydata_house[mydata_house['Address']==i].Area.sum()\n",
    "    x={i:j}\n",
    "    Address.update(x)\n",
    "avrage_price=mydata_house.Address.map(lambda s:Address.get(s) if s in Address else s)\n",
    "avrage_price"
   ]
  },
  {
   "cell_type": "code",
   "execution_count": 11,
   "id": "8fc45fc7",
   "metadata": {},
   "outputs": [],
   "source": [
    "mydata_house.drop(mydata_house[(mydata_house['Area']>500.0) & (mydata_house['Room']<4)].index,axis=0,inplace=True) # run without this line"
   ]
  },
  {
   "cell_type": "code",
   "execution_count": 12,
   "id": "8761123a",
   "metadata": {},
   "outputs": [
    {
     "data": {
      "text/html": [
       "<div>\n",
       "<style scoped>\n",
       "    .dataframe tbody tr th:only-of-type {\n",
       "        vertical-align: middle;\n",
       "    }\n",
       "\n",
       "    .dataframe tbody tr th {\n",
       "        vertical-align: top;\n",
       "    }\n",
       "\n",
       "    .dataframe thead th {\n",
       "        text-align: right;\n",
       "    }\n",
       "</style>\n",
       "<table border=\"1\" class=\"dataframe\">\n",
       "  <thead>\n",
       "    <tr style=\"text-align: right;\">\n",
       "      <th></th>\n",
       "      <th>Area</th>\n",
       "      <th>Room</th>\n",
       "      <th>Parking</th>\n",
       "      <th>Warehouse</th>\n",
       "      <th>Elevator</th>\n",
       "      <th>Address</th>\n",
       "      <th>Price</th>\n",
       "      <th>Price(USD)</th>\n",
       "    </tr>\n",
       "  </thead>\n",
       "  <tbody>\n",
       "    <tr>\n",
       "      <th>0</th>\n",
       "      <td>63.0</td>\n",
       "      <td>1</td>\n",
       "      <td>1</td>\n",
       "      <td>1</td>\n",
       "      <td>1</td>\n",
       "      <td>Shahran</td>\n",
       "      <td>1.850000e+09</td>\n",
       "      <td>61666.67</td>\n",
       "    </tr>\n",
       "    <tr>\n",
       "      <th>1</th>\n",
       "      <td>60.0</td>\n",
       "      <td>1</td>\n",
       "      <td>1</td>\n",
       "      <td>1</td>\n",
       "      <td>1</td>\n",
       "      <td>Shahran</td>\n",
       "      <td>1.850000e+09</td>\n",
       "      <td>61666.67</td>\n",
       "    </tr>\n",
       "    <tr>\n",
       "      <th>2</th>\n",
       "      <td>79.0</td>\n",
       "      <td>2</td>\n",
       "      <td>1</td>\n",
       "      <td>1</td>\n",
       "      <td>1</td>\n",
       "      <td>Pardis</td>\n",
       "      <td>5.500000e+08</td>\n",
       "      <td>18333.33</td>\n",
       "    </tr>\n",
       "    <tr>\n",
       "      <th>3</th>\n",
       "      <td>95.0</td>\n",
       "      <td>2</td>\n",
       "      <td>1</td>\n",
       "      <td>1</td>\n",
       "      <td>1</td>\n",
       "      <td>Shahrake Qods</td>\n",
       "      <td>9.025000e+08</td>\n",
       "      <td>30083.33</td>\n",
       "    </tr>\n",
       "    <tr>\n",
       "      <th>4</th>\n",
       "      <td>123.0</td>\n",
       "      <td>2</td>\n",
       "      <td>1</td>\n",
       "      <td>1</td>\n",
       "      <td>1</td>\n",
       "      <td>Shahrake Gharb</td>\n",
       "      <td>7.000000e+09</td>\n",
       "      <td>233333.33</td>\n",
       "    </tr>\n",
       "    <tr>\n",
       "      <th>...</th>\n",
       "      <td>...</td>\n",
       "      <td>...</td>\n",
       "      <td>...</td>\n",
       "      <td>...</td>\n",
       "      <td>...</td>\n",
       "      <td>...</td>\n",
       "      <td>...</td>\n",
       "      <td>...</td>\n",
       "    </tr>\n",
       "    <tr>\n",
       "      <th>3237</th>\n",
       "      <td>63.0</td>\n",
       "      <td>1</td>\n",
       "      <td>1</td>\n",
       "      <td>1</td>\n",
       "      <td>0</td>\n",
       "      <td>Feiz Garden</td>\n",
       "      <td>1.890000e+09</td>\n",
       "      <td>63000.00</td>\n",
       "    </tr>\n",
       "    <tr>\n",
       "      <th>3238</th>\n",
       "      <td>86.0</td>\n",
       "      <td>2</td>\n",
       "      <td>1</td>\n",
       "      <td>1</td>\n",
       "      <td>1</td>\n",
       "      <td>Southern Janatabad</td>\n",
       "      <td>3.500000e+09</td>\n",
       "      <td>116666.67</td>\n",
       "    </tr>\n",
       "    <tr>\n",
       "      <th>3239</th>\n",
       "      <td>83.0</td>\n",
       "      <td>2</td>\n",
       "      <td>1</td>\n",
       "      <td>1</td>\n",
       "      <td>1</td>\n",
       "      <td>Niavaran</td>\n",
       "      <td>6.800000e+09</td>\n",
       "      <td>226666.67</td>\n",
       "    </tr>\n",
       "    <tr>\n",
       "      <th>3240</th>\n",
       "      <td>105.0</td>\n",
       "      <td>2</td>\n",
       "      <td>1</td>\n",
       "      <td>1</td>\n",
       "      <td>1</td>\n",
       "      <td>Dorous</td>\n",
       "      <td>5.600000e+09</td>\n",
       "      <td>186666.67</td>\n",
       "    </tr>\n",
       "    <tr>\n",
       "      <th>3241</th>\n",
       "      <td>82.0</td>\n",
       "      <td>2</td>\n",
       "      <td>0</td>\n",
       "      <td>1</td>\n",
       "      <td>1</td>\n",
       "      <td>Parand</td>\n",
       "      <td>3.600000e+08</td>\n",
       "      <td>12000.00</td>\n",
       "    </tr>\n",
       "  </tbody>\n",
       "</table>\n",
       "<p>3233 rows × 8 columns</p>\n",
       "</div>"
      ],
      "text/plain": [
       "       Area  Room  Parking  Warehouse  Elevator             Address  \\\n",
       "0      63.0     1        1          1         1             Shahran   \n",
       "1      60.0     1        1          1         1             Shahran   \n",
       "2      79.0     2        1          1         1              Pardis   \n",
       "3      95.0     2        1          1         1       Shahrake Qods   \n",
       "4     123.0     2        1          1         1      Shahrake Gharb   \n",
       "...     ...   ...      ...        ...       ...                 ...   \n",
       "3237   63.0     1        1          1         0         Feiz Garden   \n",
       "3238   86.0     2        1          1         1  Southern Janatabad   \n",
       "3239   83.0     2        1          1         1            Niavaran   \n",
       "3240  105.0     2        1          1         1              Dorous   \n",
       "3241   82.0     2        0          1         1              Parand   \n",
       "\n",
       "             Price  Price(USD)  \n",
       "0     1.850000e+09    61666.67  \n",
       "1     1.850000e+09    61666.67  \n",
       "2     5.500000e+08    18333.33  \n",
       "3     9.025000e+08    30083.33  \n",
       "4     7.000000e+09   233333.33  \n",
       "...            ...         ...  \n",
       "3237  1.890000e+09    63000.00  \n",
       "3238  3.500000e+09   116666.67  \n",
       "3239  6.800000e+09   226666.67  \n",
       "3240  5.600000e+09   186666.67  \n",
       "3241  3.600000e+08    12000.00  \n",
       "\n",
       "[3233 rows x 8 columns]"
      ]
     },
     "execution_count": 12,
     "metadata": {},
     "output_type": "execute_result"
    }
   ],
   "source": [
    "mydata_house"
   ]
  },
  {
   "cell_type": "code",
   "execution_count": 13,
   "id": "1b495229",
   "metadata": {},
   "outputs": [],
   "source": [
    "y = np.asarray(mydata_house['Price'])"
   ]
  },
  {
   "cell_type": "code",
   "execution_count": 14,
   "id": "e117e4f5",
   "metadata": {},
   "outputs": [
    {
     "data": {
      "text/html": [
       "<div>\n",
       "<style scoped>\n",
       "    .dataframe tbody tr th:only-of-type {\n",
       "        vertical-align: middle;\n",
       "    }\n",
       "\n",
       "    .dataframe tbody tr th {\n",
       "        vertical-align: top;\n",
       "    }\n",
       "\n",
       "    .dataframe thead th {\n",
       "        text-align: right;\n",
       "    }\n",
       "</style>\n",
       "<table border=\"1\" class=\"dataframe\">\n",
       "  <thead>\n",
       "    <tr style=\"text-align: right;\">\n",
       "      <th></th>\n",
       "      <th>Area</th>\n",
       "      <th>Room</th>\n",
       "      <th>Parking</th>\n",
       "      <th>Warehouse</th>\n",
       "      <th>Elevator</th>\n",
       "      <th>Address</th>\n",
       "    </tr>\n",
       "  </thead>\n",
       "  <tbody>\n",
       "    <tr>\n",
       "      <th>0</th>\n",
       "      <td>63.0</td>\n",
       "      <td>1</td>\n",
       "      <td>1</td>\n",
       "      <td>1</td>\n",
       "      <td>1</td>\n",
       "      <td>Shahran</td>\n",
       "    </tr>\n",
       "    <tr>\n",
       "      <th>1</th>\n",
       "      <td>60.0</td>\n",
       "      <td>1</td>\n",
       "      <td>1</td>\n",
       "      <td>1</td>\n",
       "      <td>1</td>\n",
       "      <td>Shahran</td>\n",
       "    </tr>\n",
       "    <tr>\n",
       "      <th>2</th>\n",
       "      <td>79.0</td>\n",
       "      <td>2</td>\n",
       "      <td>1</td>\n",
       "      <td>1</td>\n",
       "      <td>1</td>\n",
       "      <td>Pardis</td>\n",
       "    </tr>\n",
       "    <tr>\n",
       "      <th>3</th>\n",
       "      <td>95.0</td>\n",
       "      <td>2</td>\n",
       "      <td>1</td>\n",
       "      <td>1</td>\n",
       "      <td>1</td>\n",
       "      <td>Shahrake Qods</td>\n",
       "    </tr>\n",
       "    <tr>\n",
       "      <th>4</th>\n",
       "      <td>123.0</td>\n",
       "      <td>2</td>\n",
       "      <td>1</td>\n",
       "      <td>1</td>\n",
       "      <td>1</td>\n",
       "      <td>Shahrake Gharb</td>\n",
       "    </tr>\n",
       "    <tr>\n",
       "      <th>...</th>\n",
       "      <td>...</td>\n",
       "      <td>...</td>\n",
       "      <td>...</td>\n",
       "      <td>...</td>\n",
       "      <td>...</td>\n",
       "      <td>...</td>\n",
       "    </tr>\n",
       "    <tr>\n",
       "      <th>3237</th>\n",
       "      <td>63.0</td>\n",
       "      <td>1</td>\n",
       "      <td>1</td>\n",
       "      <td>1</td>\n",
       "      <td>0</td>\n",
       "      <td>Feiz Garden</td>\n",
       "    </tr>\n",
       "    <tr>\n",
       "      <th>3238</th>\n",
       "      <td>86.0</td>\n",
       "      <td>2</td>\n",
       "      <td>1</td>\n",
       "      <td>1</td>\n",
       "      <td>1</td>\n",
       "      <td>Southern Janatabad</td>\n",
       "    </tr>\n",
       "    <tr>\n",
       "      <th>3239</th>\n",
       "      <td>83.0</td>\n",
       "      <td>2</td>\n",
       "      <td>1</td>\n",
       "      <td>1</td>\n",
       "      <td>1</td>\n",
       "      <td>Niavaran</td>\n",
       "    </tr>\n",
       "    <tr>\n",
       "      <th>3240</th>\n",
       "      <td>105.0</td>\n",
       "      <td>2</td>\n",
       "      <td>1</td>\n",
       "      <td>1</td>\n",
       "      <td>1</td>\n",
       "      <td>Dorous</td>\n",
       "    </tr>\n",
       "    <tr>\n",
       "      <th>3241</th>\n",
       "      <td>82.0</td>\n",
       "      <td>2</td>\n",
       "      <td>0</td>\n",
       "      <td>1</td>\n",
       "      <td>1</td>\n",
       "      <td>Parand</td>\n",
       "    </tr>\n",
       "  </tbody>\n",
       "</table>\n",
       "<p>3233 rows × 6 columns</p>\n",
       "</div>"
      ],
      "text/plain": [
       "       Area  Room  Parking  Warehouse  Elevator             Address\n",
       "0      63.0     1        1          1         1             Shahran\n",
       "1      60.0     1        1          1         1             Shahran\n",
       "2      79.0     2        1          1         1              Pardis\n",
       "3      95.0     2        1          1         1       Shahrake Qods\n",
       "4     123.0     2        1          1         1      Shahrake Gharb\n",
       "...     ...   ...      ...        ...       ...                 ...\n",
       "3237   63.0     1        1          1         0         Feiz Garden\n",
       "3238   86.0     2        1          1         1  Southern Janatabad\n",
       "3239   83.0     2        1          1         1            Niavaran\n",
       "3240  105.0     2        1          1         1              Dorous\n",
       "3241   82.0     2        0          1         1              Parand\n",
       "\n",
       "[3233 rows x 6 columns]"
      ]
     },
     "execution_count": 14,
     "metadata": {},
     "output_type": "execute_result"
    }
   ],
   "source": [
    "for i in mydata_house.columns[6:]:\n",
    "    mydata_house.drop(i,axis=1,inplace=True)\n",
    "mydata_house"
   ]
  },
  {
   "cell_type": "code",
   "execution_count": 15,
   "id": "62e6fb06",
   "metadata": {},
   "outputs": [
    {
     "data": {
      "text/html": [
       "<div>\n",
       "<style scoped>\n",
       "    .dataframe tbody tr th:only-of-type {\n",
       "        vertical-align: middle;\n",
       "    }\n",
       "\n",
       "    .dataframe tbody tr th {\n",
       "        vertical-align: top;\n",
       "    }\n",
       "\n",
       "    .dataframe thead th {\n",
       "        text-align: right;\n",
       "    }\n",
       "</style>\n",
       "<table border=\"1\" class=\"dataframe\">\n",
       "  <thead>\n",
       "    <tr style=\"text-align: right;\">\n",
       "      <th></th>\n",
       "      <th>Area</th>\n",
       "      <th>Room</th>\n",
       "      <th>Parking</th>\n",
       "      <th>Warehouse</th>\n",
       "      <th>Elevator</th>\n",
       "      <th>Address</th>\n",
       "      <th>avrage_mean_pric</th>\n",
       "    </tr>\n",
       "  </thead>\n",
       "  <tbody>\n",
       "    <tr>\n",
       "      <th>0</th>\n",
       "      <td>63.0</td>\n",
       "      <td>1</td>\n",
       "      <td>1</td>\n",
       "      <td>1</td>\n",
       "      <td>1</td>\n",
       "      <td>120</td>\n",
       "      <td>3.668519e+07</td>\n",
       "    </tr>\n",
       "    <tr>\n",
       "      <th>1</th>\n",
       "      <td>60.0</td>\n",
       "      <td>1</td>\n",
       "      <td>1</td>\n",
       "      <td>1</td>\n",
       "      <td>1</td>\n",
       "      <td>120</td>\n",
       "      <td>3.668519e+07</td>\n",
       "    </tr>\n",
       "    <tr>\n",
       "      <th>2</th>\n",
       "      <td>79.0</td>\n",
       "      <td>2</td>\n",
       "      <td>1</td>\n",
       "      <td>1</td>\n",
       "      <td>1</td>\n",
       "      <td>144</td>\n",
       "      <td>8.204639e+06</td>\n",
       "    </tr>\n",
       "    <tr>\n",
       "      <th>3</th>\n",
       "      <td>95.0</td>\n",
       "      <td>2</td>\n",
       "      <td>1</td>\n",
       "      <td>1</td>\n",
       "      <td>1</td>\n",
       "      <td>81</td>\n",
       "      <td>1.000572e+07</td>\n",
       "    </tr>\n",
       "    <tr>\n",
       "      <th>4</th>\n",
       "      <td>123.0</td>\n",
       "      <td>2</td>\n",
       "      <td>1</td>\n",
       "      <td>1</td>\n",
       "      <td>1</td>\n",
       "      <td>107</td>\n",
       "      <td>8.625069e+07</td>\n",
       "    </tr>\n",
       "    <tr>\n",
       "      <th>...</th>\n",
       "      <td>...</td>\n",
       "      <td>...</td>\n",
       "      <td>...</td>\n",
       "      <td>...</td>\n",
       "      <td>...</td>\n",
       "      <td>...</td>\n",
       "      <td>...</td>\n",
       "    </tr>\n",
       "    <tr>\n",
       "      <th>3237</th>\n",
       "      <td>63.0</td>\n",
       "      <td>1</td>\n",
       "      <td>1</td>\n",
       "      <td>1</td>\n",
       "      <td>0</td>\n",
       "      <td>18</td>\n",
       "      <td>3.738220e+07</td>\n",
       "    </tr>\n",
       "    <tr>\n",
       "      <th>3238</th>\n",
       "      <td>86.0</td>\n",
       "      <td>2</td>\n",
       "      <td>1</td>\n",
       "      <td>1</td>\n",
       "      <td>1</td>\n",
       "      <td>155</td>\n",
       "      <td>3.945778e+07</td>\n",
       "    </tr>\n",
       "    <tr>\n",
       "      <th>3239</th>\n",
       "      <td>83.0</td>\n",
       "      <td>2</td>\n",
       "      <td>1</td>\n",
       "      <td>1</td>\n",
       "      <td>1</td>\n",
       "      <td>47</td>\n",
       "      <td>1.106100e+08</td>\n",
       "    </tr>\n",
       "    <tr>\n",
       "      <th>3240</th>\n",
       "      <td>105.0</td>\n",
       "      <td>2</td>\n",
       "      <td>1</td>\n",
       "      <td>1</td>\n",
       "      <td>1</td>\n",
       "      <td>9</td>\n",
       "      <td>9.718675e+07</td>\n",
       "    </tr>\n",
       "    <tr>\n",
       "      <th>3241</th>\n",
       "      <td>82.0</td>\n",
       "      <td>2</td>\n",
       "      <td>0</td>\n",
       "      <td>1</td>\n",
       "      <td>1</td>\n",
       "      <td>8</td>\n",
       "      <td>6.521264e+06</td>\n",
       "    </tr>\n",
       "  </tbody>\n",
       "</table>\n",
       "<p>3233 rows × 7 columns</p>\n",
       "</div>"
      ],
      "text/plain": [
       "       Area  Room  Parking  Warehouse  Elevator  Address  avrage_mean_pric\n",
       "0      63.0     1        1          1         1      120      3.668519e+07\n",
       "1      60.0     1        1          1         1      120      3.668519e+07\n",
       "2      79.0     2        1          1         1      144      8.204639e+06\n",
       "3      95.0     2        1          1         1       81      1.000572e+07\n",
       "4     123.0     2        1          1         1      107      8.625069e+07\n",
       "...     ...   ...      ...        ...       ...      ...               ...\n",
       "3237   63.0     1        1          1         0       18      3.738220e+07\n",
       "3238   86.0     2        1          1         1      155      3.945778e+07\n",
       "3239   83.0     2        1          1         1       47      1.106100e+08\n",
       "3240  105.0     2        1          1         1        9      9.718675e+07\n",
       "3241   82.0     2        0          1         1        8      6.521264e+06\n",
       "\n",
       "[3233 rows x 7 columns]"
      ]
     },
     "execution_count": 15,
     "metadata": {},
     "output_type": "execute_result"
    }
   ],
   "source": [
    "mydata_house['avrage_mean_pric']=avrage_price # run without this line\n",
    "mydata_house['Address']=number_adaress\n",
    "mydata_house"
   ]
  },
  {
   "cell_type": "code",
   "execution_count": 16,
   "id": "3e5548c3",
   "metadata": {},
   "outputs": [
    {
     "data": {
      "text/plain": [
       "array([[-0.67549701, -1.42229262,  0.42772554, ...,  0.51993652,\n",
       "         0.35187469, -0.23882138],\n",
       "       [-0.72253132, -1.42229262,  0.42772554, ...,  0.51993652,\n",
       "         0.35187469, -0.23882138],\n",
       "       [-0.4246473 , -0.11447918,  0.42772554, ...,  0.51993652,\n",
       "         0.76167687, -1.23653309],\n",
       "       ...,\n",
       "       [-0.36193488, -0.11447918,  0.42772554, ...,  0.51993652,\n",
       "        -0.89460696,  2.35086243],\n",
       "       [-0.01701654, -0.11447918,  0.42772554, ...,  0.51993652,\n",
       "        -1.54346041,  1.88062901],\n",
       "       [-0.37761299, -0.11447918, -2.33794782, ...,  0.51993652,\n",
       "        -1.5605355 , -1.29550398]])"
      ]
     },
     "execution_count": 16,
     "metadata": {},
     "output_type": "execute_result"
    }
   ],
   "source": [
    "X = np.asarray(mydata_house)\n",
    "from sklearn.preprocessing import scale,normalize,minmax_scale\n",
    "#X=minmax_scale(X,feature_range=(-2,2))\n",
    "#X=normalize(X,norm='l2',axis=0)\n",
    "X=scale(X)\n",
    "X"
   ]
  },
  {
   "cell_type": "code",
   "execution_count": 17,
   "id": "0e3a1379",
   "metadata": {},
   "outputs": [],
   "source": [
    "from sklearn.model_selection import train_test_split\n",
    "X_train,X_test,y_train,y_test=train_test_split(X,y,test_size=0.2, random_state=30)"
   ]
  },
  {
   "cell_type": "code",
   "execution_count": 18,
   "id": "16b9cd2d",
   "metadata": {},
   "outputs": [],
   "source": [
    "from sklearn.linear_model import LinearRegression\n",
    "reg=LinearRegression()\n",
    "reg.fit(X_train,y_train)\n",
    "y_pred=reg.predict(X_test)"
   ]
  },
  {
   "cell_type": "code",
   "execution_count": 19,
   "id": "ddd4724b",
   "metadata": {},
   "outputs": [
    {
     "data": {
      "text/plain": [
       "1.680516903006539e+19"
      ]
     },
     "execution_count": 19,
     "metadata": {},
     "output_type": "execute_result"
    }
   ],
   "source": [
    "from sklearn.metrics import mean_squared_error\n",
    "mse=mean_squared_error(y_test,y_pred)\n",
    "mse"
   ]
  },
  {
   "cell_type": "code",
   "execution_count": 20,
   "id": "5d272a9e",
   "metadata": {},
   "outputs": [
    {
     "name": "stdout",
     "output_type": "stream",
     "text": [
      "reg_score train: 0.741532\n",
      "reg_score test: 0.770685\n"
     ]
    }
   ],
   "source": [
    "reg_score=reg.score(X_train,y_train)  # for underfit or overfit\n",
    "print('reg_score train: %f' %reg_score)\n",
    "reg_score=reg.score(X_test,y_test)\n",
    "print('reg_score test: %f' %reg_score)"
   ]
  },
  {
   "cell_type": "code",
   "execution_count": 21,
   "id": "82228941",
   "metadata": {},
   "outputs": [],
   "source": [
    "from sklearn.model_selection import cross_validate"
   ]
  },
  {
   "cell_type": "code",
   "execution_count": 22,
   "id": "c0dfb955",
   "metadata": {},
   "outputs": [],
   "source": [
    "cv_results = cross_validate(reg, X, y, cv=10,return_train_score=True)"
   ]
  },
  {
   "cell_type": "code",
   "execution_count": 23,
   "id": "4c4ce44d",
   "metadata": {},
   "outputs": [
    {
     "data": {
      "text/plain": [
       "0.714636880762658"
      ]
     },
     "execution_count": 23,
     "metadata": {},
     "output_type": "execute_result"
    }
   ],
   "source": [
    "cv_results['test_score'].mean()"
   ]
  },
  {
   "cell_type": "code",
   "execution_count": 24,
   "id": "48a7acb9",
   "metadata": {},
   "outputs": [
    {
     "data": {
      "text/plain": [
       "0.7484630316166301"
      ]
     },
     "execution_count": 24,
     "metadata": {},
     "output_type": "execute_result"
    }
   ],
   "source": [
    "cv_results['train_score'].mean()"
   ]
  },
  {
   "cell_type": "code",
   "execution_count": 25,
   "id": "ff659ed9",
   "metadata": {},
   "outputs": [
    {
     "data": {
      "text/plain": [
       "1.6805529749036646e+19"
      ]
     },
     "execution_count": 25,
     "metadata": {},
     "output_type": "execute_result"
    }
   ],
   "source": [
    "from sklearn.linear_model import Ridge\n",
    "ridge=Ridge(alpha=0.1)\n",
    "ridge.fit(X_train,y_train)\n",
    "ridge_pred=ridge.predict(X_test)\n",
    "ridge_mse=mean_squared_error(y_test,ridge_pred)\n",
    "ridge_mse"
   ]
  },
  {
   "cell_type": "code",
   "execution_count": 26,
   "id": "ef058b38",
   "metadata": {},
   "outputs": [
    {
     "data": {
      "text/plain": [
       "0.7706802724185111"
      ]
     },
     "execution_count": 26,
     "metadata": {},
     "output_type": "execute_result"
    }
   ],
   "source": [
    "ridge_score=ridge.score(X_test,y_test)\n",
    "ridge_score"
   ]
  },
  {
   "cell_type": "code",
   "execution_count": 27,
   "id": "917a08ca",
   "metadata": {},
   "outputs": [
    {
     "data": {
      "text/plain": [
       "0.7415324270813659"
      ]
     },
     "execution_count": 27,
     "metadata": {},
     "output_type": "execute_result"
    }
   ],
   "source": [
    "ridge_score=ridge.score(X_train,y_train)\n",
    "ridge_score"
   ]
  },
  {
   "cell_type": "code",
   "execution_count": 28,
   "id": "b19ffc9a",
   "metadata": {},
   "outputs": [],
   "source": [
    "cv_results = cross_validate(ridge, X, y, cv=10,return_train_score=True)"
   ]
  },
  {
   "cell_type": "code",
   "execution_count": 29,
   "id": "22f11fd7",
   "metadata": {},
   "outputs": [
    {
     "data": {
      "text/plain": [
       "0.7146408986767232"
      ]
     },
     "execution_count": 29,
     "metadata": {},
     "output_type": "execute_result"
    }
   ],
   "source": [
    "cv_results['test_score'].mean()"
   ]
  },
  {
   "cell_type": "code",
   "execution_count": 30,
   "id": "1c4646aa",
   "metadata": {},
   "outputs": [
    {
     "data": {
      "text/plain": [
       "0.7484630302385351"
      ]
     },
     "execution_count": 30,
     "metadata": {},
     "output_type": "execute_result"
    }
   ],
   "source": [
    "cv_results['train_score'].mean()"
   ]
  },
  {
   "cell_type": "code",
   "execution_count": 31,
   "id": "0592be0d",
   "metadata": {},
   "outputs": [
    {
     "data": {
      "text/plain": [
       "1.68051690303407e+19"
      ]
     },
     "execution_count": 31,
     "metadata": {},
     "output_type": "execute_result"
    }
   ],
   "source": [
    "from sklearn.linear_model import Lasso\n",
    "lasso= Lasso(alpha=0.1)\n",
    "lasso.fit(X_train,y_train)\n",
    "lasso_pred=lasso.predict(X_test)\n",
    "lasso_mse=mean_squared_error(y_test,lasso_pred)\n",
    "lasso_mse"
   ]
  },
  {
   "cell_type": "code",
   "execution_count": 32,
   "id": "cdb77d83",
   "metadata": {},
   "outputs": [
    {
     "data": {
      "text/plain": [
       "0.7706851946027162"
      ]
     },
     "execution_count": 32,
     "metadata": {},
     "output_type": "execute_result"
    }
   ],
   "source": [
    "lasso_score=lasso.score(X_test,y_test)\n",
    "lasso_score"
   ]
  },
  {
   "cell_type": "code",
   "execution_count": 33,
   "id": "05d59318",
   "metadata": {},
   "outputs": [
    {
     "data": {
      "text/plain": [
       "0.7415324286755023"
      ]
     },
     "execution_count": 33,
     "metadata": {},
     "output_type": "execute_result"
    }
   ],
   "source": [
    "lasso_score=lasso.score(X_train,y_train)\n",
    "lasso_score"
   ]
  },
  {
   "cell_type": "code",
   "execution_count": 34,
   "id": "afecedab",
   "metadata": {},
   "outputs": [],
   "source": [
    "cv_results = cross_validate(lasso, X, y, cv=10,return_train_score=True)"
   ]
  },
  {
   "cell_type": "code",
   "execution_count": 35,
   "id": "507e30d5",
   "metadata": {},
   "outputs": [
    {
     "data": {
      "text/plain": [
       "0.7146368807671838"
      ]
     },
     "execution_count": 35,
     "metadata": {},
     "output_type": "execute_result"
    }
   ],
   "source": [
    "cv_results['test_score'].mean()"
   ]
  },
  {
   "cell_type": "code",
   "execution_count": 36,
   "id": "4de7e48e",
   "metadata": {},
   "outputs": [
    {
     "data": {
      "text/plain": [
       "0.7484630316166301"
      ]
     },
     "execution_count": 36,
     "metadata": {},
     "output_type": "execute_result"
    }
   ],
   "source": [
    "cv_results['train_score'].mean()"
   ]
  },
  {
   "cell_type": "code",
   "execution_count": null,
   "id": "633ea234",
   "metadata": {},
   "outputs": [],
   "source": []
  }
 ],
 "metadata": {
  "kernelspec": {
   "display_name": "Python 3 (ipykernel)",
   "language": "python",
   "name": "python3"
  },
  "language_info": {
   "codemirror_mode": {
    "name": "ipython",
    "version": 3
   },
   "file_extension": ".py",
   "mimetype": "text/x-python",
   "name": "python",
   "nbconvert_exporter": "python",
   "pygments_lexer": "ipython3",
   "version": "3.9.12"
  }
 },
 "nbformat": 4,
 "nbformat_minor": 5
}
