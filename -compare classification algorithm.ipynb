{
 "cells": [
  {
   "cell_type": "code",
   "execution_count": 1,
   "id": "0cab2a29",
   "metadata": {},
   "outputs": [
    {
     "data": {
      "text/html": [
       "<div>\n",
       "<style scoped>\n",
       "    .dataframe tbody tr th:only-of-type {\n",
       "        vertical-align: middle;\n",
       "    }\n",
       "\n",
       "    .dataframe tbody tr th {\n",
       "        vertical-align: top;\n",
       "    }\n",
       "\n",
       "    .dataframe thead th {\n",
       "        text-align: right;\n",
       "    }\n",
       "</style>\n",
       "<table border=\"1\" class=\"dataframe\">\n",
       "  <thead>\n",
       "    <tr style=\"text-align: right;\">\n",
       "      <th></th>\n",
       "      <th>age</th>\n",
       "      <th>sex</th>\n",
       "      <th>cp</th>\n",
       "      <th>trtbps</th>\n",
       "      <th>chol</th>\n",
       "      <th>fbs</th>\n",
       "      <th>restecg</th>\n",
       "      <th>thalachh</th>\n",
       "      <th>exng</th>\n",
       "      <th>oldpeak</th>\n",
       "      <th>slp</th>\n",
       "      <th>caa</th>\n",
       "      <th>thall</th>\n",
       "      <th>output</th>\n",
       "    </tr>\n",
       "  </thead>\n",
       "  <tbody>\n",
       "    <tr>\n",
       "      <th>0</th>\n",
       "      <td>63</td>\n",
       "      <td>1</td>\n",
       "      <td>3</td>\n",
       "      <td>145</td>\n",
       "      <td>233</td>\n",
       "      <td>1</td>\n",
       "      <td>0</td>\n",
       "      <td>150</td>\n",
       "      <td>0</td>\n",
       "      <td>2.3</td>\n",
       "      <td>0</td>\n",
       "      <td>0</td>\n",
       "      <td>1</td>\n",
       "      <td>1</td>\n",
       "    </tr>\n",
       "    <tr>\n",
       "      <th>1</th>\n",
       "      <td>37</td>\n",
       "      <td>1</td>\n",
       "      <td>2</td>\n",
       "      <td>130</td>\n",
       "      <td>250</td>\n",
       "      <td>0</td>\n",
       "      <td>1</td>\n",
       "      <td>187</td>\n",
       "      <td>0</td>\n",
       "      <td>3.5</td>\n",
       "      <td>0</td>\n",
       "      <td>0</td>\n",
       "      <td>2</td>\n",
       "      <td>1</td>\n",
       "    </tr>\n",
       "    <tr>\n",
       "      <th>2</th>\n",
       "      <td>41</td>\n",
       "      <td>0</td>\n",
       "      <td>1</td>\n",
       "      <td>130</td>\n",
       "      <td>204</td>\n",
       "      <td>0</td>\n",
       "      <td>0</td>\n",
       "      <td>172</td>\n",
       "      <td>0</td>\n",
       "      <td>1.4</td>\n",
       "      <td>2</td>\n",
       "      <td>0</td>\n",
       "      <td>2</td>\n",
       "      <td>1</td>\n",
       "    </tr>\n",
       "    <tr>\n",
       "      <th>3</th>\n",
       "      <td>56</td>\n",
       "      <td>1</td>\n",
       "      <td>1</td>\n",
       "      <td>120</td>\n",
       "      <td>236</td>\n",
       "      <td>0</td>\n",
       "      <td>1</td>\n",
       "      <td>178</td>\n",
       "      <td>0</td>\n",
       "      <td>0.8</td>\n",
       "      <td>2</td>\n",
       "      <td>0</td>\n",
       "      <td>2</td>\n",
       "      <td>1</td>\n",
       "    </tr>\n",
       "    <tr>\n",
       "      <th>4</th>\n",
       "      <td>57</td>\n",
       "      <td>0</td>\n",
       "      <td>0</td>\n",
       "      <td>120</td>\n",
       "      <td>354</td>\n",
       "      <td>0</td>\n",
       "      <td>1</td>\n",
       "      <td>163</td>\n",
       "      <td>1</td>\n",
       "      <td>0.6</td>\n",
       "      <td>2</td>\n",
       "      <td>0</td>\n",
       "      <td>2</td>\n",
       "      <td>1</td>\n",
       "    </tr>\n",
       "    <tr>\n",
       "      <th>...</th>\n",
       "      <td>...</td>\n",
       "      <td>...</td>\n",
       "      <td>...</td>\n",
       "      <td>...</td>\n",
       "      <td>...</td>\n",
       "      <td>...</td>\n",
       "      <td>...</td>\n",
       "      <td>...</td>\n",
       "      <td>...</td>\n",
       "      <td>...</td>\n",
       "      <td>...</td>\n",
       "      <td>...</td>\n",
       "      <td>...</td>\n",
       "      <td>...</td>\n",
       "    </tr>\n",
       "    <tr>\n",
       "      <th>298</th>\n",
       "      <td>57</td>\n",
       "      <td>0</td>\n",
       "      <td>0</td>\n",
       "      <td>140</td>\n",
       "      <td>241</td>\n",
       "      <td>0</td>\n",
       "      <td>1</td>\n",
       "      <td>123</td>\n",
       "      <td>1</td>\n",
       "      <td>0.2</td>\n",
       "      <td>1</td>\n",
       "      <td>0</td>\n",
       "      <td>3</td>\n",
       "      <td>0</td>\n",
       "    </tr>\n",
       "    <tr>\n",
       "      <th>299</th>\n",
       "      <td>45</td>\n",
       "      <td>1</td>\n",
       "      <td>3</td>\n",
       "      <td>110</td>\n",
       "      <td>264</td>\n",
       "      <td>0</td>\n",
       "      <td>1</td>\n",
       "      <td>132</td>\n",
       "      <td>0</td>\n",
       "      <td>1.2</td>\n",
       "      <td>1</td>\n",
       "      <td>0</td>\n",
       "      <td>3</td>\n",
       "      <td>0</td>\n",
       "    </tr>\n",
       "    <tr>\n",
       "      <th>300</th>\n",
       "      <td>68</td>\n",
       "      <td>1</td>\n",
       "      <td>0</td>\n",
       "      <td>144</td>\n",
       "      <td>193</td>\n",
       "      <td>1</td>\n",
       "      <td>1</td>\n",
       "      <td>141</td>\n",
       "      <td>0</td>\n",
       "      <td>3.4</td>\n",
       "      <td>1</td>\n",
       "      <td>2</td>\n",
       "      <td>3</td>\n",
       "      <td>0</td>\n",
       "    </tr>\n",
       "    <tr>\n",
       "      <th>301</th>\n",
       "      <td>57</td>\n",
       "      <td>1</td>\n",
       "      <td>0</td>\n",
       "      <td>130</td>\n",
       "      <td>131</td>\n",
       "      <td>0</td>\n",
       "      <td>1</td>\n",
       "      <td>115</td>\n",
       "      <td>1</td>\n",
       "      <td>1.2</td>\n",
       "      <td>1</td>\n",
       "      <td>1</td>\n",
       "      <td>3</td>\n",
       "      <td>0</td>\n",
       "    </tr>\n",
       "    <tr>\n",
       "      <th>302</th>\n",
       "      <td>57</td>\n",
       "      <td>0</td>\n",
       "      <td>1</td>\n",
       "      <td>130</td>\n",
       "      <td>236</td>\n",
       "      <td>0</td>\n",
       "      <td>0</td>\n",
       "      <td>174</td>\n",
       "      <td>0</td>\n",
       "      <td>0.0</td>\n",
       "      <td>1</td>\n",
       "      <td>1</td>\n",
       "      <td>2</td>\n",
       "      <td>0</td>\n",
       "    </tr>\n",
       "  </tbody>\n",
       "</table>\n",
       "<p>303 rows × 14 columns</p>\n",
       "</div>"
      ],
      "text/plain": [
       "     age  sex  cp  trtbps  chol  fbs  restecg  thalachh  exng  oldpeak  slp  \\\n",
       "0     63    1   3     145   233    1        0       150     0      2.3    0   \n",
       "1     37    1   2     130   250    0        1       187     0      3.5    0   \n",
       "2     41    0   1     130   204    0        0       172     0      1.4    2   \n",
       "3     56    1   1     120   236    0        1       178     0      0.8    2   \n",
       "4     57    0   0     120   354    0        1       163     1      0.6    2   \n",
       "..   ...  ...  ..     ...   ...  ...      ...       ...   ...      ...  ...   \n",
       "298   57    0   0     140   241    0        1       123     1      0.2    1   \n",
       "299   45    1   3     110   264    0        1       132     0      1.2    1   \n",
       "300   68    1   0     144   193    1        1       141     0      3.4    1   \n",
       "301   57    1   0     130   131    0        1       115     1      1.2    1   \n",
       "302   57    0   1     130   236    0        0       174     0      0.0    1   \n",
       "\n",
       "     caa  thall  output  \n",
       "0      0      1       1  \n",
       "1      0      2       1  \n",
       "2      0      2       1  \n",
       "3      0      2       1  \n",
       "4      0      2       1  \n",
       "..   ...    ...     ...  \n",
       "298    0      3       0  \n",
       "299    0      3       0  \n",
       "300    2      3       0  \n",
       "301    1      3       0  \n",
       "302    1      2       0  \n",
       "\n",
       "[303 rows x 14 columns]"
      ]
     },
     "execution_count": 1,
     "metadata": {},
     "output_type": "execute_result"
    }
   ],
   "source": [
    "import pandas as pd\n",
    "import numpy as np\n",
    "mydata=pd.read_csv(('hospital.csv'))\n",
    "mydata"
   ]
  },
  {
   "cell_type": "code",
   "execution_count": 2,
   "id": "73958548",
   "metadata": {},
   "outputs": [
    {
     "data": {
      "text/plain": [
       "age           int64\n",
       "sex           int64\n",
       "cp            int64\n",
       "trtbps        int64\n",
       "chol          int64\n",
       "fbs           int64\n",
       "restecg       int64\n",
       "thalachh      int64\n",
       "exng          int64\n",
       "oldpeak     float64\n",
       "slp           int64\n",
       "caa           int64\n",
       "thall         int64\n",
       "output        int64\n",
       "dtype: object"
      ]
     },
     "execution_count": 2,
     "metadata": {},
     "output_type": "execute_result"
    }
   ],
   "source": [
    "mydata.dtypes"
   ]
  },
  {
   "cell_type": "code",
   "execution_count": 3,
   "id": "ce6c4dc8",
   "metadata": {},
   "outputs": [
    {
     "data": {
      "text/plain": [
       "(303, 14)"
      ]
     },
     "execution_count": 3,
     "metadata": {},
     "output_type": "execute_result"
    }
   ],
   "source": [
    "mydata.shape"
   ]
  },
  {
   "cell_type": "code",
   "execution_count": 4,
   "id": "7d5a8df6",
   "metadata": {},
   "outputs": [
    {
     "data": {
      "text/plain": [
       "(302, 14)"
      ]
     },
     "execution_count": 4,
     "metadata": {},
     "output_type": "execute_result"
    }
   ],
   "source": [
    "mydata.drop_duplicates(inplace=True)\n",
    "mydata.shape"
   ]
  },
  {
   "cell_type": "code",
   "execution_count": 5,
   "id": "1a76d210",
   "metadata": {},
   "outputs": [
    {
     "data": {
      "text/html": [
       "<div>\n",
       "<style scoped>\n",
       "    .dataframe tbody tr th:only-of-type {\n",
       "        vertical-align: middle;\n",
       "    }\n",
       "\n",
       "    .dataframe tbody tr th {\n",
       "        vertical-align: top;\n",
       "    }\n",
       "\n",
       "    .dataframe thead th {\n",
       "        text-align: right;\n",
       "    }\n",
       "</style>\n",
       "<table border=\"1\" class=\"dataframe\">\n",
       "  <thead>\n",
       "    <tr style=\"text-align: right;\">\n",
       "      <th></th>\n",
       "      <th>age</th>\n",
       "      <th>sex</th>\n",
       "      <th>cp</th>\n",
       "      <th>trtbps</th>\n",
       "      <th>chol</th>\n",
       "      <th>fbs</th>\n",
       "      <th>thalachh</th>\n",
       "      <th>exng</th>\n",
       "      <th>oldpeak</th>\n",
       "      <th>slp</th>\n",
       "      <th>caa</th>\n",
       "      <th>thall</th>\n",
       "      <th>output</th>\n",
       "      <th>restecg_0</th>\n",
       "      <th>restecg_1</th>\n",
       "      <th>restecg_2</th>\n",
       "    </tr>\n",
       "  </thead>\n",
       "  <tbody>\n",
       "    <tr>\n",
       "      <th>0</th>\n",
       "      <td>63</td>\n",
       "      <td>1</td>\n",
       "      <td>3</td>\n",
       "      <td>145</td>\n",
       "      <td>233</td>\n",
       "      <td>1</td>\n",
       "      <td>150</td>\n",
       "      <td>0</td>\n",
       "      <td>2.3</td>\n",
       "      <td>0</td>\n",
       "      <td>0</td>\n",
       "      <td>1</td>\n",
       "      <td>1</td>\n",
       "      <td>1</td>\n",
       "      <td>0</td>\n",
       "      <td>0</td>\n",
       "    </tr>\n",
       "    <tr>\n",
       "      <th>1</th>\n",
       "      <td>37</td>\n",
       "      <td>1</td>\n",
       "      <td>2</td>\n",
       "      <td>130</td>\n",
       "      <td>250</td>\n",
       "      <td>0</td>\n",
       "      <td>187</td>\n",
       "      <td>0</td>\n",
       "      <td>3.5</td>\n",
       "      <td>0</td>\n",
       "      <td>0</td>\n",
       "      <td>2</td>\n",
       "      <td>1</td>\n",
       "      <td>0</td>\n",
       "      <td>1</td>\n",
       "      <td>0</td>\n",
       "    </tr>\n",
       "    <tr>\n",
       "      <th>2</th>\n",
       "      <td>41</td>\n",
       "      <td>0</td>\n",
       "      <td>1</td>\n",
       "      <td>130</td>\n",
       "      <td>204</td>\n",
       "      <td>0</td>\n",
       "      <td>172</td>\n",
       "      <td>0</td>\n",
       "      <td>1.4</td>\n",
       "      <td>2</td>\n",
       "      <td>0</td>\n",
       "      <td>2</td>\n",
       "      <td>1</td>\n",
       "      <td>1</td>\n",
       "      <td>0</td>\n",
       "      <td>0</td>\n",
       "    </tr>\n",
       "    <tr>\n",
       "      <th>3</th>\n",
       "      <td>56</td>\n",
       "      <td>1</td>\n",
       "      <td>1</td>\n",
       "      <td>120</td>\n",
       "      <td>236</td>\n",
       "      <td>0</td>\n",
       "      <td>178</td>\n",
       "      <td>0</td>\n",
       "      <td>0.8</td>\n",
       "      <td>2</td>\n",
       "      <td>0</td>\n",
       "      <td>2</td>\n",
       "      <td>1</td>\n",
       "      <td>0</td>\n",
       "      <td>1</td>\n",
       "      <td>0</td>\n",
       "    </tr>\n",
       "    <tr>\n",
       "      <th>4</th>\n",
       "      <td>57</td>\n",
       "      <td>0</td>\n",
       "      <td>0</td>\n",
       "      <td>120</td>\n",
       "      <td>354</td>\n",
       "      <td>0</td>\n",
       "      <td>163</td>\n",
       "      <td>1</td>\n",
       "      <td>0.6</td>\n",
       "      <td>2</td>\n",
       "      <td>0</td>\n",
       "      <td>2</td>\n",
       "      <td>1</td>\n",
       "      <td>0</td>\n",
       "      <td>1</td>\n",
       "      <td>0</td>\n",
       "    </tr>\n",
       "    <tr>\n",
       "      <th>...</th>\n",
       "      <td>...</td>\n",
       "      <td>...</td>\n",
       "      <td>...</td>\n",
       "      <td>...</td>\n",
       "      <td>...</td>\n",
       "      <td>...</td>\n",
       "      <td>...</td>\n",
       "      <td>...</td>\n",
       "      <td>...</td>\n",
       "      <td>...</td>\n",
       "      <td>...</td>\n",
       "      <td>...</td>\n",
       "      <td>...</td>\n",
       "      <td>...</td>\n",
       "      <td>...</td>\n",
       "      <td>...</td>\n",
       "    </tr>\n",
       "    <tr>\n",
       "      <th>298</th>\n",
       "      <td>57</td>\n",
       "      <td>0</td>\n",
       "      <td>0</td>\n",
       "      <td>140</td>\n",
       "      <td>241</td>\n",
       "      <td>0</td>\n",
       "      <td>123</td>\n",
       "      <td>1</td>\n",
       "      <td>0.2</td>\n",
       "      <td>1</td>\n",
       "      <td>0</td>\n",
       "      <td>3</td>\n",
       "      <td>0</td>\n",
       "      <td>0</td>\n",
       "      <td>1</td>\n",
       "      <td>0</td>\n",
       "    </tr>\n",
       "    <tr>\n",
       "      <th>299</th>\n",
       "      <td>45</td>\n",
       "      <td>1</td>\n",
       "      <td>3</td>\n",
       "      <td>110</td>\n",
       "      <td>264</td>\n",
       "      <td>0</td>\n",
       "      <td>132</td>\n",
       "      <td>0</td>\n",
       "      <td>1.2</td>\n",
       "      <td>1</td>\n",
       "      <td>0</td>\n",
       "      <td>3</td>\n",
       "      <td>0</td>\n",
       "      <td>0</td>\n",
       "      <td>1</td>\n",
       "      <td>0</td>\n",
       "    </tr>\n",
       "    <tr>\n",
       "      <th>300</th>\n",
       "      <td>68</td>\n",
       "      <td>1</td>\n",
       "      <td>0</td>\n",
       "      <td>144</td>\n",
       "      <td>193</td>\n",
       "      <td>1</td>\n",
       "      <td>141</td>\n",
       "      <td>0</td>\n",
       "      <td>3.4</td>\n",
       "      <td>1</td>\n",
       "      <td>2</td>\n",
       "      <td>3</td>\n",
       "      <td>0</td>\n",
       "      <td>0</td>\n",
       "      <td>1</td>\n",
       "      <td>0</td>\n",
       "    </tr>\n",
       "    <tr>\n",
       "      <th>301</th>\n",
       "      <td>57</td>\n",
       "      <td>1</td>\n",
       "      <td>0</td>\n",
       "      <td>130</td>\n",
       "      <td>131</td>\n",
       "      <td>0</td>\n",
       "      <td>115</td>\n",
       "      <td>1</td>\n",
       "      <td>1.2</td>\n",
       "      <td>1</td>\n",
       "      <td>1</td>\n",
       "      <td>3</td>\n",
       "      <td>0</td>\n",
       "      <td>0</td>\n",
       "      <td>1</td>\n",
       "      <td>0</td>\n",
       "    </tr>\n",
       "    <tr>\n",
       "      <th>302</th>\n",
       "      <td>57</td>\n",
       "      <td>0</td>\n",
       "      <td>1</td>\n",
       "      <td>130</td>\n",
       "      <td>236</td>\n",
       "      <td>0</td>\n",
       "      <td>174</td>\n",
       "      <td>0</td>\n",
       "      <td>0.0</td>\n",
       "      <td>1</td>\n",
       "      <td>1</td>\n",
       "      <td>2</td>\n",
       "      <td>0</td>\n",
       "      <td>1</td>\n",
       "      <td>0</td>\n",
       "      <td>0</td>\n",
       "    </tr>\n",
       "  </tbody>\n",
       "</table>\n",
       "<p>302 rows × 16 columns</p>\n",
       "</div>"
      ],
      "text/plain": [
       "     age  sex  cp  trtbps  chol  fbs  thalachh  exng  oldpeak  slp  caa  \\\n",
       "0     63    1   3     145   233    1       150     0      2.3    0    0   \n",
       "1     37    1   2     130   250    0       187     0      3.5    0    0   \n",
       "2     41    0   1     130   204    0       172     0      1.4    2    0   \n",
       "3     56    1   1     120   236    0       178     0      0.8    2    0   \n",
       "4     57    0   0     120   354    0       163     1      0.6    2    0   \n",
       "..   ...  ...  ..     ...   ...  ...       ...   ...      ...  ...  ...   \n",
       "298   57    0   0     140   241    0       123     1      0.2    1    0   \n",
       "299   45    1   3     110   264    0       132     0      1.2    1    0   \n",
       "300   68    1   0     144   193    1       141     0      3.4    1    2   \n",
       "301   57    1   0     130   131    0       115     1      1.2    1    1   \n",
       "302   57    0   1     130   236    0       174     0      0.0    1    1   \n",
       "\n",
       "     thall  output  restecg_0  restecg_1  restecg_2  \n",
       "0        1       1          1          0          0  \n",
       "1        2       1          0          1          0  \n",
       "2        2       1          1          0          0  \n",
       "3        2       1          0          1          0  \n",
       "4        2       1          0          1          0  \n",
       "..     ...     ...        ...        ...        ...  \n",
       "298      3       0          0          1          0  \n",
       "299      3       0          0          1          0  \n",
       "300      3       0          0          1          0  \n",
       "301      3       0          0          1          0  \n",
       "302      2       0          1          0          0  \n",
       "\n",
       "[302 rows x 16 columns]"
      ]
     },
     "execution_count": 5,
     "metadata": {},
     "output_type": "execute_result"
    }
   ],
   "source": [
    "mydata=pd.get_dummies(mydata,columns=['restecg']) # run without this line\n",
    "mydata"
   ]
  },
  {
   "cell_type": "code",
   "execution_count": 6,
   "id": "191a74dd",
   "metadata": {},
   "outputs": [],
   "source": [
    "from sklearn.neighbors import KNeighborsClassifier\n",
    "from sklearn.model_selection import train_test_split\n",
    "from sklearn.metrics import confusion_matrix, classification_report\n",
    "from sklearn import metrics\n",
    "from sklearn.model_selection import GridSearchCV"
   ]
  },
  {
   "cell_type": "code",
   "execution_count": 59,
   "id": "87bd3aa3",
   "metadata": {},
   "outputs": [
    {
     "data": {
      "text/plain": [
       "Index(['age', 'sex', 'cp', 'trtbps', 'chol', 'fbs', 'thalachh', 'exng',\n",
       "       'oldpeak', 'slp', 'caa', 'thall', 'output', 'restecg_0', 'restecg_1',\n",
       "       'restecg_2'],\n",
       "      dtype='object')"
      ]
     },
     "execution_count": 59,
     "metadata": {},
     "output_type": "execute_result"
    }
   ],
   "source": [
    "mydata.columns"
   ]
  },
  {
   "cell_type": "code",
   "execution_count": 58,
   "id": "9b278834",
   "metadata": {},
   "outputs": [
    {
     "name": "stdout",
     "output_type": "stream",
     "text": [
      "[[63.  1.  3. ...  1.  0.  0.]\n",
      " [37.  1.  2. ...  0.  1.  0.]\n",
      " [41.  0.  1. ...  1.  0.  0.]\n",
      " ...\n",
      " [68.  1.  0. ...  0.  1.  0.]\n",
      " [57.  1.  0. ...  0.  1.  0.]\n",
      " [57.  0.  1. ...  1.  0.  0.]]\n",
      "[1 1 1 1 1 1 1 1 1 1 1 1 1 1 1 1 1 1 1 1 1 1 1 1 1 1 1 1 1 1 1 1 1 1 1 1 1\n",
      " 1 1 1 1 1 1 1 1 1 1 1 1 1 1 1 1 1 1 1 1 1 1 1 1 1 1 1 1 1 1 1 1 1 1 1 1 1\n",
      " 1 1 1 1 1 1 1 1 1 1 1 1 1 1 1 1 1 1 1 1 1 1 1 1 1 1 1 1 1 1 1 1 1 1 1 1 1\n",
      " 1 1 1 1 1 1 1 1 1 1 1 1 1 1 1 1 1 1 1 1 1 1 1 1 1 1 1 1 1 1 1 1 1 1 1 1 1\n",
      " 1 1 1 1 1 1 1 1 1 1 1 1 1 1 1 1 0 0 0 0 0 0 0 0 0 0 0 0 0 0 0 0 0 0 0 0 0\n",
      " 0 0 0 0 0 0 0 0 0 0 0 0 0 0 0 0 0 0 0 0 0 0 0 0 0 0 0 0 0 0 0 0 0 0 0 0 0\n",
      " 0 0 0 0 0 0 0 0 0 0 0 0 0 0 0 0 0 0 0 0 0 0 0 0 0 0 0 0 0 0 0 0 0 0 0 0 0\n",
      " 0 0 0 0 0 0 0 0 0 0 0 0 0 0 0 0 0 0 0 0 0 0 0 0 0 0 0 0 0 0 0 0 0 0 0 0 0\n",
      " 0 0 0 0 0 0]\n"
     ]
    }
   ],
   "source": [
    "label=[]\n",
    "for i in mydata.columns:\n",
    "    if i !='output' :\n",
    "        label.append(i)\n",
    "x=np.asarray(mydata[label])\n",
    "y = np.asarray(mydata['output'])\n",
    "print(x)\n",
    "print(y)"
   ]
  },
  {
   "cell_type": "code",
   "execution_count": 57,
   "id": "a1295043",
   "metadata": {},
   "outputs": [],
   "source": [
    "from sklearn.preprocessing import scale,normalize,minmax_scale\n",
    "#x=minmax_scale(x,feature_range=(-1,1))\n",
    "#x=normalize(x,norm='l2',axis=0)\n",
    "x=scale(x)"
   ]
  },
  {
   "cell_type": "code",
   "execution_count": 9,
   "id": "54fce735",
   "metadata": {},
   "outputs": [
    {
     "name": "stdout",
     "output_type": "stream",
     "text": [
      "{'n_neighbors': 14}\n",
      "0.8375956284153006\n",
      "{'mean_fit_time': array([0.00179596, 0.00180202, 0.00201125, 0.00369968, 0.00162268,\n",
      "       0.00201616, 0.00322089, 0.        , 0.00361462, 0.0016057 ,\n",
      "       0.00040412, 0.00040398, 0.00040388, 0.00161066, 0.00040522,\n",
      "       0.00040526, 0.00201077, 0.00040603, 0.00160484, 0.00161209,\n",
      "       0.0004046 , 0.00321031, 0.00201554, 0.00040655, 0.00200958,\n",
      "       0.00161042, 0.00040512, 0.00321774, 0.00201006, 0.00081015,\n",
      "       0.00099745, 0.0009974 , 0.00140481, 0.00040383, 0.00242186,\n",
      "       0.00160513, 0.00080342, 0.00120225, 0.00161576, 0.00200853,\n",
      "       0.00080814, 0.        , 0.00322185, 0.0016149 , 0.0020124 ,\n",
      "       0.        , 0.003228  , 0.        , 0.        ]), 'std_fit_time': array([1.16285938e-03, 1.83985414e-03, 3.11229332e-03, 3.77937002e-03,\n",
      "       3.24535370e-03, 3.12401715e-03, 3.94477236e-03, 0.00000000e+00,\n",
      "       3.67593105e-03, 3.21140289e-03, 8.08238983e-04, 8.07952881e-04,\n",
      "       8.07762146e-04, 3.22132111e-03, 8.10432434e-04, 8.10527802e-04,\n",
      "       3.11026476e-03, 8.12053680e-04, 3.20968628e-03, 3.22418213e-03,\n",
      "       8.09192657e-04, 3.93180602e-03, 3.12069369e-03, 8.13102722e-04,\n",
      "       3.10933921e-03, 3.22084427e-03, 8.10241699e-04, 3.94092075e-03,\n",
      "       3.10814386e-03, 9.92222576e-04, 8.91963495e-04, 1.39510525e-06,\n",
      "       2.80961990e-03, 8.07666779e-04, 2.95905742e-03, 3.21025848e-03,\n",
      "       7.55096301e-04, 4.09650816e-04, 3.23152542e-03, 3.10666388e-03,\n",
      "       9.89770312e-04, 0.00000000e+00, 3.94595323e-03, 3.22980881e-03,\n",
      "       3.11257377e-03, 0.00000000e+00, 3.95354990e-03, 0.00000000e+00,\n",
      "       0.00000000e+00]), 'mean_score_time': array([0.00498581, 0.00380821, 0.00607448, 0.00231433, 0.00282588,\n",
      "       0.00361557, 0.00442309, 0.0028193 , 0.00241919, 0.00603967,\n",
      "       0.00402598, 0.00523376, 0.00402136, 0.00643864, 0.0040235 ,\n",
      "       0.00724125, 0.00402579, 0.0056427 , 0.00442991, 0.00449781,\n",
      "       0.00723906, 0.00282121, 0.00599866, 0.0040247 , 0.00603924,\n",
      "       0.0056334 , 0.00402479, 0.00121374, 0.00402923, 0.00403028,\n",
      "       0.00761147, 0.00418901, 0.00442853, 0.00562954, 0.00402732,\n",
      "       0.00604048, 0.00611792, 0.00364556, 0.00603786, 0.0055975 ,\n",
      "       0.00563955, 0.00562859, 0.00282445, 0.00442586, 0.00442524,\n",
      "       0.00402594, 0.00443177, 0.0060329 , 0.00643945]), 'std_score_time': array([0.00178409, 0.00352019, 0.00425707, 0.00296701, 0.0037416 ,\n",
      "       0.00367622, 0.00389001, 0.00372545, 0.00295728, 0.00422528,\n",
      "       0.00493082, 0.00433852, 0.00421238, 0.00447737, 0.00492777,\n",
      "       0.00372823, 0.00422183, 0.00466679, 0.00546214, 0.00474202,\n",
      "       0.00372831, 0.00373531, 0.00418351, 0.00421658, 0.00422301,\n",
      "       0.00389724, 0.00492935, 0.00099102, 0.00422565, 0.00493611,\n",
      "       0.00244986, 0.0023939 , 0.00546173, 0.00465583, 0.00421788,\n",
      "       0.00422055, 0.00493612, 0.00186491, 0.00422027, 0.00386197,\n",
      "       0.00466282, 0.00465321, 0.00373431, 0.00389454, 0.00545762,\n",
      "       0.00421808, 0.00390429, 0.00335646, 0.00447708]), 'param_n_neighbors': masked_array(data=[1, 2, 3, 4, 5, 6, 7, 8, 9, 10, 11, 12, 13, 14, 15, 16,\n",
      "                   17, 18, 19, 20, 21, 22, 23, 24, 25, 26, 27, 28, 29, 30,\n",
      "                   31, 32, 33, 34, 35, 36, 37, 38, 39, 40, 41, 42, 43, 44,\n",
      "                   45, 46, 47, 48, 49],\n",
      "             mask=[False, False, False, False, False, False, False, False,\n",
      "                   False, False, False, False, False, False, False, False,\n",
      "                   False, False, False, False, False, False, False, False,\n",
      "                   False, False, False, False, False, False, False, False,\n",
      "                   False, False, False, False, False, False, False, False,\n",
      "                   False, False, False, False, False, False, False, False,\n",
      "                   False],\n",
      "       fill_value='?',\n",
      "            dtype=object), 'params': [{'n_neighbors': 1}, {'n_neighbors': 2}, {'n_neighbors': 3}, {'n_neighbors': 4}, {'n_neighbors': 5}, {'n_neighbors': 6}, {'n_neighbors': 7}, {'n_neighbors': 8}, {'n_neighbors': 9}, {'n_neighbors': 10}, {'n_neighbors': 11}, {'n_neighbors': 12}, {'n_neighbors': 13}, {'n_neighbors': 14}, {'n_neighbors': 15}, {'n_neighbors': 16}, {'n_neighbors': 17}, {'n_neighbors': 18}, {'n_neighbors': 19}, {'n_neighbors': 20}, {'n_neighbors': 21}, {'n_neighbors': 22}, {'n_neighbors': 23}, {'n_neighbors': 24}, {'n_neighbors': 25}, {'n_neighbors': 26}, {'n_neighbors': 27}, {'n_neighbors': 28}, {'n_neighbors': 29}, {'n_neighbors': 30}, {'n_neighbors': 31}, {'n_neighbors': 32}, {'n_neighbors': 33}, {'n_neighbors': 34}, {'n_neighbors': 35}, {'n_neighbors': 36}, {'n_neighbors': 37}, {'n_neighbors': 38}, {'n_neighbors': 39}, {'n_neighbors': 40}, {'n_neighbors': 41}, {'n_neighbors': 42}, {'n_neighbors': 43}, {'n_neighbors': 44}, {'n_neighbors': 45}, {'n_neighbors': 46}, {'n_neighbors': 47}, {'n_neighbors': 48}, {'n_neighbors': 49}], 'split0_test_score': array([0.68852459, 0.73770492, 0.78688525, 0.83606557, 0.7704918 ,\n",
      "       0.78688525, 0.80327869, 0.80327869, 0.80327869, 0.81967213,\n",
      "       0.81967213, 0.83606557, 0.85245902, 0.85245902, 0.83606557,\n",
      "       0.85245902, 0.86885246, 0.86885246, 0.86885246, 0.85245902,\n",
      "       0.8852459 , 0.86885246, 0.8852459 , 0.85245902, 0.8852459 ,\n",
      "       0.85245902, 0.8852459 , 0.86885246, 0.8852459 , 0.86885246,\n",
      "       0.8852459 , 0.86885246, 0.8852459 , 0.8852459 , 0.86885246,\n",
      "       0.86885246, 0.86885246, 0.86885246, 0.86885246, 0.85245902,\n",
      "       0.85245902, 0.85245902, 0.81967213, 0.85245902, 0.83606557,\n",
      "       0.85245902, 0.83606557, 0.83606557, 0.83606557]), 'split1_test_score': array([0.70491803, 0.78688525, 0.83606557, 0.80327869, 0.81967213,\n",
      "       0.86885246, 0.83606557, 0.83606557, 0.83606557, 0.83606557,\n",
      "       0.86885246, 0.85245902, 0.8852459 , 0.86885246, 0.85245902,\n",
      "       0.86885246, 0.85245902, 0.81967213, 0.81967213, 0.83606557,\n",
      "       0.83606557, 0.83606557, 0.81967213, 0.85245902, 0.83606557,\n",
      "       0.83606557, 0.85245902, 0.81967213, 0.80327869, 0.80327869,\n",
      "       0.80327869, 0.78688525, 0.80327869, 0.78688525, 0.80327869,\n",
      "       0.78688525, 0.80327869, 0.80327869, 0.80327869, 0.78688525,\n",
      "       0.80327869, 0.80327869, 0.80327869, 0.80327869, 0.80327869,\n",
      "       0.80327869, 0.80327869, 0.80327869, 0.80327869]), 'split2_test_score': array([0.78333333, 0.76666667, 0.83333333, 0.8       , 0.81666667,\n",
      "       0.83333333, 0.81666667, 0.83333333, 0.85      , 0.83333333,\n",
      "       0.83333333, 0.81666667, 0.85      , 0.86666667, 0.83333333,\n",
      "       0.85      , 0.85      , 0.85      , 0.86666667, 0.86666667,\n",
      "       0.85      , 0.85      , 0.83333333, 0.83333333, 0.83333333,\n",
      "       0.85      , 0.85      , 0.85      , 0.85      , 0.85      ,\n",
      "       0.83333333, 0.83333333, 0.83333333, 0.83333333, 0.83333333,\n",
      "       0.83333333, 0.83333333, 0.81666667, 0.83333333, 0.83333333,\n",
      "       0.83333333, 0.83333333, 0.83333333, 0.83333333, 0.85      ,\n",
      "       0.85      , 0.83333333, 0.85      , 0.85      ]), 'split3_test_score': array([0.81666667, 0.78333333, 0.88333333, 0.86666667, 0.85      ,\n",
      "       0.88333333, 0.85      , 0.88333333, 0.81666667, 0.83333333,\n",
      "       0.83333333, 0.85      , 0.85      , 0.88333333, 0.88333333,\n",
      "       0.88333333, 0.86666667, 0.88333333, 0.85      , 0.86666667,\n",
      "       0.85      , 0.86666667, 0.86666667, 0.85      , 0.85      ,\n",
      "       0.8       , 0.8       , 0.83333333, 0.8       , 0.83333333,\n",
      "       0.8       , 0.83333333, 0.83333333, 0.83333333, 0.81666667,\n",
      "       0.83333333, 0.83333333, 0.83333333, 0.83333333, 0.85      ,\n",
      "       0.85      , 0.85      , 0.81666667, 0.85      , 0.83333333,\n",
      "       0.83333333, 0.83333333, 0.83333333, 0.83333333]), 'split4_test_score': array([0.7       , 0.71666667, 0.76666667, 0.71666667, 0.75      ,\n",
      "       0.76666667, 0.73333333, 0.75      , 0.71666667, 0.76666667,\n",
      "       0.75      , 0.76666667, 0.75      , 0.71666667, 0.71666667,\n",
      "       0.71666667, 0.71666667, 0.71666667, 0.75      , 0.71666667,\n",
      "       0.73333333, 0.71666667, 0.76666667, 0.75      , 0.75      ,\n",
      "       0.75      , 0.73333333, 0.73333333, 0.73333333, 0.73333333,\n",
      "       0.75      , 0.75      , 0.71666667, 0.75      , 0.75      ,\n",
      "       0.75      , 0.71666667, 0.71666667, 0.71666667, 0.71666667,\n",
      "       0.71666667, 0.71666667, 0.7       , 0.71666667, 0.73333333,\n",
      "       0.71666667, 0.7       , 0.71666667, 0.73333333]), 'mean_test_score': array([0.73868852, 0.75825137, 0.82125683, 0.80453552, 0.80136612,\n",
      "       0.82781421, 0.80786885, 0.82120219, 0.80453552, 0.81781421,\n",
      "       0.82103825, 0.82437158, 0.83754098, 0.83759563, 0.82437158,\n",
      "       0.8342623 , 0.83092896, 0.82770492, 0.83103825, 0.82770492,\n",
      "       0.83092896, 0.82765027, 0.83431694, 0.82765027, 0.83092896,\n",
      "       0.81770492, 0.82420765, 0.82103825, 0.81437158, 0.81775956,\n",
      "       0.81437158, 0.81448087, 0.81437158, 0.81775956, 0.81442623,\n",
      "       0.81448087, 0.8110929 , 0.80775956, 0.8110929 , 0.80786885,\n",
      "       0.81114754, 0.81114754, 0.79459016, 0.81114754, 0.81120219,\n",
      "       0.81114754, 0.80120219, 0.80786885, 0.81120219]), 'std_test_score': array([0.05143426, 0.0270971 , 0.04093928, 0.05019464, 0.03612803,\n",
      "       0.04519109, 0.04055639, 0.04386198, 0.04675648, 0.0262081 ,\n",
      "       0.03908155, 0.03153313, 0.04576502, 0.06125159, 0.05671473,\n",
      "       0.06001995, 0.05761683, 0.05946214, 0.04417065, 0.05665368,\n",
      "       0.0514374 , 0.05675841, 0.04106644, 0.03947739, 0.04448752,\n",
      "       0.038692  , 0.05297774, 0.04684052, 0.05136019, 0.04739189,\n",
      "       0.04439823, 0.04144008, 0.05551859, 0.04600885, 0.03898646,\n",
      "       0.04144008, 0.05158065, 0.0505642 , 0.05158065, 0.05132233,\n",
      "       0.05039229, 0.05039229, 0.04824997, 0.05039229, 0.0418081 ,\n",
      "       0.05039229, 0.05201244, 0.04807793, 0.0418081 ]), 'rank_test_score': array([49, 48, 17, 44, 45,  9, 41, 18, 43, 21, 19, 14,  2,  1, 15,  4,  6,\n",
      "       10,  5, 10,  6, 12,  3, 12,  6, 24, 16, 19, 28, 22, 28, 25, 28, 22,\n",
      "       27, 25, 37, 42, 37, 39, 33, 33, 47, 33, 31, 33, 46, 39, 31])}\n"
     ]
    }
   ],
   "source": [
    "x_train,x_test,y_train,y_test=train_test_split(x,y,test_size=0.3,\n",
    "                                    random_state=42,stratify=mydata.sex)\n",
    "p_grid={'n_neighbors':np.arange(2,50)}\n",
    "knn=KNeighborsClassifier()\n",
    "knn_cv=GridSearchCV(knn,p_grid,cv =5)\n",
    "knn_cv.fit(x,y)\n",
    "print(knn_cv.best_params_)\n",
    "print(knn_cv.best_score_)\n",
    "#print(knn_cv.cv_results_)"
   ]
  },
  {
   "cell_type": "code",
   "execution_count": 10,
   "id": "a1f0c134",
   "metadata": {},
   "outputs": [
    {
     "name": "stdout",
     "output_type": "stream",
     "text": [
      "knn_score test: 0.840000\n",
      "knn_score train: 0.846535\n",
      "[[35 12]\n",
      " [ 4 49]]\n",
      "              precision    recall  f1-score   support\n",
      "\n",
      "           0       0.90      0.74      0.81        47\n",
      "           1       0.80      0.92      0.86        53\n",
      "\n",
      "    accuracy                           0.84       100\n",
      "   macro avg       0.85      0.83      0.84       100\n",
      "weighted avg       0.85      0.84      0.84       100\n",
      "\n"
     ]
    }
   ],
   "source": [
    "knn=KNeighborsClassifier(n_neighbors=14)\n",
    "knn.fit(x_train,y_train)\n",
    "y_pred=knn.predict(x_test)\n",
    "knn_score=knn.score(x_test,y_test)\n",
    "print('knn_score test: %f' %knn_score)\n",
    "knn_score=knn.score(x_train,y_train)\n",
    "print('knn_score train: %f' %knn_score)\n",
    "print(confusion_matrix(y_test, y_pred))\n",
    "print(classification_report(y_test, y_pred))"
   ]
  },
  {
   "cell_type": "code",
   "execution_count": 11,
   "id": "f3caf4a8",
   "metadata": {},
   "outputs": [
    {
     "data": {
      "text/plain": [
       "0.84"
      ]
     },
     "execution_count": 11,
     "metadata": {},
     "output_type": "execute_result"
    }
   ],
   "source": [
    "Accuracy = metrics.accuracy_score(y_test,y_pred)\n",
    "Accuracy"
   ]
  },
  {
   "cell_type": "code",
   "execution_count": 12,
   "id": "38b1f464",
   "metadata": {},
   "outputs": [
    {
     "data": {
      "text/plain": [
       "0.8032786885245902"
      ]
     },
     "execution_count": 12,
     "metadata": {},
     "output_type": "execute_result"
    }
   ],
   "source": [
    "Precision = metrics.precision_score(y_test,y_pred)\n",
    "Precision"
   ]
  },
  {
   "cell_type": "code",
   "execution_count": 13,
   "id": "01a983d9",
   "metadata": {},
   "outputs": [
    {
     "data": {
      "text/plain": [
       "0.9245283018867925"
      ]
     },
     "execution_count": 13,
     "metadata": {},
     "output_type": "execute_result"
    }
   ],
   "source": [
    "Sensitivity_recall = metrics.recall_score(y_test,y_pred)\n",
    "Sensitivity_recall"
   ]
  },
  {
   "cell_type": "code",
   "execution_count": 14,
   "id": "39258949",
   "metadata": {},
   "outputs": [
    {
     "data": {
      "text/plain": [
       "0.8596491228070176"
      ]
     },
     "execution_count": 14,
     "metadata": {},
     "output_type": "execute_result"
    }
   ],
   "source": [
    "F1_score = metrics.f1_score(y_test,y_pred)\n",
    "F1_score"
   ]
  },
  {
   "cell_type": "code",
   "execution_count": null,
   "id": "bec30620",
   "metadata": {},
   "outputs": [],
   "source": []
  },
  {
   "cell_type": "code",
   "execution_count": 15,
   "id": "410895b4",
   "metadata": {},
   "outputs": [],
   "source": [
    "from sklearn.model_selection import cross_validate"
   ]
  },
  {
   "cell_type": "code",
   "execution_count": 16,
   "id": "13ca9dac",
   "metadata": {},
   "outputs": [],
   "source": [
    "cv_results = cross_validate(knn, x, y, cv=10,return_train_score=True)"
   ]
  },
  {
   "cell_type": "code",
   "execution_count": 17,
   "id": "45d96001",
   "metadata": {},
   "outputs": [
    {
     "data": {
      "text/plain": [
       "0.8210752688172043"
      ]
     },
     "execution_count": 17,
     "metadata": {},
     "output_type": "execute_result"
    }
   ],
   "source": [
    "cv_results['test_score'].mean()"
   ]
  },
  {
   "cell_type": "code",
   "execution_count": 18,
   "id": "f3db719d",
   "metadata": {},
   "outputs": [
    {
     "data": {
      "text/plain": [
       "0.844006403299327"
      ]
     },
     "execution_count": 18,
     "metadata": {},
     "output_type": "execute_result"
    }
   ],
   "source": [
    "cv_results['train_score'].mean()"
   ]
  },
  {
   "cell_type": "code",
   "execution_count": 19,
   "id": "e8e646b5",
   "metadata": {},
   "outputs": [],
   "source": [
    "from sklearn.metrics import roc_curve\n",
    "from sklearn.metrics import roc_auc_score"
   ]
  },
  {
   "cell_type": "code",
   "execution_count": 20,
   "id": "d74eb757",
   "metadata": {},
   "outputs": [
    {
     "data": {
      "text/plain": [
       "0.9140907266158169"
      ]
     },
     "execution_count": 20,
     "metadata": {},
     "output_type": "execute_result"
    }
   ],
   "source": [
    "y_pred_prob=knn.predict_proba(x_test)[:,1]\n",
    "roc_auc_score(y_test,y_pred_prob)"
   ]
  },
  {
   "cell_type": "code",
   "execution_count": 21,
   "id": "b6b59113",
   "metadata": {},
   "outputs": [
    {
     "name": "stdout",
     "output_type": "stream",
     "text": [
      "lr_score test: 0.800000\n",
      "lr_score train: 0.866337\n",
      "[[31 16]\n",
      " [ 4 49]]\n",
      "              precision    recall  f1-score   support\n",
      "\n",
      "           0       0.89      0.66      0.76        47\n",
      "           1       0.75      0.92      0.83        53\n",
      "\n",
      "    accuracy                           0.80       100\n",
      "   macro avg       0.82      0.79      0.79       100\n",
      "weighted avg       0.82      0.80      0.80       100\n",
      "\n"
     ]
    }
   ],
   "source": [
    "from sklearn.linear_model import LogisticRegression\n",
    "lr=LogisticRegression()\n",
    "lr.fit(x_train, y_train)\n",
    "y_pred=lr.predict(x_test)\n",
    "cm=confusion_matrix(y_test,y_pred)\n",
    "lr_score=lr.score(x_test,y_test)\n",
    "print('lr_score test: %f' %lr_score)\n",
    "lr_score=lr.score(x_train,y_train)\n",
    "print('lr_score train: %f' %lr_score)\n",
    "print(confusion_matrix(y_test, y_pred))\n",
    "print(classification_report(y_test, y_pred))"
   ]
  },
  {
   "cell_type": "code",
   "execution_count": 22,
   "id": "943a2c27",
   "metadata": {},
   "outputs": [
    {
     "data": {
      "text/plain": [
       "0.8"
      ]
     },
     "execution_count": 22,
     "metadata": {},
     "output_type": "execute_result"
    }
   ],
   "source": [
    "Accuracy = metrics.accuracy_score(y_test,y_pred)\n",
    "Accuracy"
   ]
  },
  {
   "cell_type": "code",
   "execution_count": 23,
   "id": "86169c88",
   "metadata": {},
   "outputs": [
    {
     "data": {
      "text/plain": [
       "0.7538461538461538"
      ]
     },
     "execution_count": 23,
     "metadata": {},
     "output_type": "execute_result"
    }
   ],
   "source": [
    "Precision = metrics.precision_score(y_test,y_pred)\n",
    "Precision"
   ]
  },
  {
   "cell_type": "code",
   "execution_count": 24,
   "id": "7575505e",
   "metadata": {},
   "outputs": [
    {
     "data": {
      "text/plain": [
       "0.9245283018867925"
      ]
     },
     "execution_count": 24,
     "metadata": {},
     "output_type": "execute_result"
    }
   ],
   "source": [
    "Sensitivity_recall = metrics.recall_score(y_test,y_pred)\n",
    "Sensitivity_recall"
   ]
  },
  {
   "cell_type": "code",
   "execution_count": 25,
   "id": "9d96a4af",
   "metadata": {},
   "outputs": [
    {
     "data": {
      "text/plain": [
       "0.8305084745762712"
      ]
     },
     "execution_count": 25,
     "metadata": {},
     "output_type": "execute_result"
    }
   ],
   "source": [
    "F1_score = metrics.f1_score(y_test,y_pred)\n",
    "F1_score"
   ]
  },
  {
   "cell_type": "code",
   "execution_count": 26,
   "id": "0a8926db",
   "metadata": {},
   "outputs": [
    {
     "data": {
      "text/plain": [
       "0.9016459253311923"
      ]
     },
     "execution_count": 26,
     "metadata": {},
     "output_type": "execute_result"
    }
   ],
   "source": [
    "y_pred_prob=lr.predict_proba(x_test)[:,1]\n",
    "roc_auc_score(y_test,y_pred_prob)"
   ]
  },
  {
   "cell_type": "code",
   "execution_count": 27,
   "id": "601b2205",
   "metadata": {},
   "outputs": [],
   "source": [
    "cv_results = cross_validate(lr, x, y, cv=10,return_train_score=True)"
   ]
  },
  {
   "cell_type": "code",
   "execution_count": 28,
   "id": "e60dca8f",
   "metadata": {},
   "outputs": [
    {
     "data": {
      "text/plain": [
       "0.8210752688172043"
      ]
     },
     "execution_count": 28,
     "metadata": {},
     "output_type": "execute_result"
    }
   ],
   "source": [
    "cv_results['test_score'].mean()"
   ]
  },
  {
   "cell_type": "code",
   "execution_count": 29,
   "id": "31e6f415",
   "metadata": {},
   "outputs": [
    {
     "data": {
      "text/plain": [
       "0.850625406989364"
      ]
     },
     "execution_count": 29,
     "metadata": {},
     "output_type": "execute_result"
    }
   ],
   "source": [
    "cv_results['train_score'].mean()"
   ]
  },
  {
   "cell_type": "code",
   "execution_count": 30,
   "id": "21d95010",
   "metadata": {},
   "outputs": [
    {
     "name": "stdout",
     "output_type": "stream",
     "text": [
      "svc_score test: 0.800000\n",
      "svc_score train: 0.915842\n",
      "[[30 17]\n",
      " [ 3 50]]\n",
      "              precision    recall  f1-score   support\n",
      "\n",
      "           0       0.91      0.64      0.75        47\n",
      "           1       0.75      0.94      0.83        53\n",
      "\n",
      "    accuracy                           0.80       100\n",
      "   macro avg       0.83      0.79      0.79       100\n",
      "weighted avg       0.82      0.80      0.79       100\n",
      "\n"
     ]
    }
   ],
   "source": [
    "from sklearn.svm import SVC\n",
    "svclassifier=SVC(kernel='rbf')\n",
    "svclassifier.fit(x_train,y_train)\n",
    "svc_score_test=svclassifier.score(x_test,y_test)\n",
    "print('svc_score test: %f' %svc_score_test)\n",
    "svc_score_train=svclassifier.score(x_train,y_train)\n",
    "print('svc_score train: %f' %svc_score_train)\n",
    "y_pred=svclassifier.predict(x_test)\n",
    "print(confusion_matrix(y_test, y_pred))\n",
    "print(classification_report(y_test, y_pred))"
   ]
  },
  {
   "cell_type": "code",
   "execution_count": 31,
   "id": "0887ddc9",
   "metadata": {},
   "outputs": [
    {
     "data": {
      "text/plain": [
       "0.8"
      ]
     },
     "execution_count": 31,
     "metadata": {},
     "output_type": "execute_result"
    }
   ],
   "source": [
    "Accuracy = metrics.accuracy_score(y_test,y_pred)\n",
    "Accuracy"
   ]
  },
  {
   "cell_type": "code",
   "execution_count": 32,
   "id": "7799d072",
   "metadata": {},
   "outputs": [
    {
     "data": {
      "text/plain": [
       "0.746268656716418"
      ]
     },
     "execution_count": 32,
     "metadata": {},
     "output_type": "execute_result"
    }
   ],
   "source": [
    "Precision = metrics.precision_score(y_test,y_pred)\n",
    "Precision"
   ]
  },
  {
   "cell_type": "code",
   "execution_count": 33,
   "id": "50532c1d",
   "metadata": {},
   "outputs": [
    {
     "data": {
      "text/plain": [
       "0.9433962264150944"
      ]
     },
     "execution_count": 33,
     "metadata": {},
     "output_type": "execute_result"
    }
   ],
   "source": [
    "Sensitivity_recall = metrics.recall_score(y_test,y_pred)\n",
    "Sensitivity_recall"
   ]
  },
  {
   "cell_type": "code",
   "execution_count": 34,
   "id": "50dd7765",
   "metadata": {},
   "outputs": [
    {
     "data": {
      "text/plain": [
       "0.8333333333333333"
      ]
     },
     "execution_count": 34,
     "metadata": {},
     "output_type": "execute_result"
    }
   ],
   "source": [
    "F1_score = metrics.f1_score(y_test,y_pred)\n",
    "F1_score"
   ]
  },
  {
   "cell_type": "code",
   "execution_count": 35,
   "id": "36ff24a5",
   "metadata": {},
   "outputs": [],
   "source": [
    "cv_results = cross_validate(svclassifier, x, y, cv=10,return_train_score=True)"
   ]
  },
  {
   "cell_type": "code",
   "execution_count": 36,
   "id": "efc1fe2b",
   "metadata": {},
   "outputs": [
    {
     "data": {
      "text/plain": [
       "0.8210752688172043"
      ]
     },
     "execution_count": 36,
     "metadata": {},
     "output_type": "execute_result"
    }
   ],
   "source": [
    "cv_results['test_score'].mean()"
   ]
  },
  {
   "cell_type": "code",
   "execution_count": 37,
   "id": "65866f84",
   "metadata": {},
   "outputs": [
    {
     "data": {
      "text/plain": [
       "0.9146421206859128"
      ]
     },
     "execution_count": 37,
     "metadata": {},
     "output_type": "execute_result"
    }
   ],
   "source": [
    "cv_results['train_score'].mean()"
   ]
  },
  {
   "cell_type": "code",
   "execution_count": 38,
   "id": "04efe1eb",
   "metadata": {},
   "outputs": [],
   "source": [
    "from sklearn.tree import DecisionTreeClassifier"
   ]
  },
  {
   "cell_type": "code",
   "execution_count": 39,
   "id": "04a505b7",
   "metadata": {},
   "outputs": [
    {
     "name": "stdout",
     "output_type": "stream",
     "text": [
      "[0 0 0 1 0]\n",
      "[1 0 0 1 0]\n"
     ]
    }
   ],
   "source": [
    "drugtree=DecisionTreeClassifier(criterion='entropy' ,max_depth=4)\n",
    "drugtree.fit(x_train, y_train)\n",
    "predtree=drugtree.predict(x_test)\n",
    "print(predtree[:5])\n",
    "print(y_test[:5])"
   ]
  },
  {
   "cell_type": "code",
   "execution_count": 40,
   "id": "48aad2e4",
   "metadata": {},
   "outputs": [
    {
     "name": "stdout",
     "output_type": "stream",
     "text": [
      "[[31 16]\n",
      " [ 7 46]]\n",
      "              precision    recall  f1-score   support\n",
      "\n",
      "           0       0.82      0.66      0.73        47\n",
      "           1       0.74      0.87      0.80        53\n",
      "\n",
      "    accuracy                           0.77       100\n",
      "   macro avg       0.78      0.76      0.76       100\n",
      "weighted avg       0.78      0.77      0.77       100\n",
      "\n"
     ]
    }
   ],
   "source": [
    "print(confusion_matrix(y_test, predtree))\n",
    "print(classification_report(y_test, predtree))"
   ]
  },
  {
   "cell_type": "code",
   "execution_count": 41,
   "id": "64cee277",
   "metadata": {},
   "outputs": [
    {
     "name": "stdout",
     "output_type": "stream",
     "text": [
      "drugtree_score test: 0.770000\n",
      "drugtree_score train: 0.886139\n"
     ]
    }
   ],
   "source": [
    "drugtree_score=drugtree.score(x_test,y_test)\n",
    "print('drugtree_score test: %f' %drugtree_score)\n",
    "drugtree_score=drugtree.score(x_train,y_train)\n",
    "print('drugtree_score train: %f' %drugtree_score)"
   ]
  },
  {
   "cell_type": "code",
   "execution_count": 42,
   "id": "15526d9d",
   "metadata": {},
   "outputs": [
    {
     "data": {
      "text/plain": [
       "0.8"
      ]
     },
     "execution_count": 42,
     "metadata": {},
     "output_type": "execute_result"
    }
   ],
   "source": [
    "Accuracy = metrics.accuracy_score(y_test,y_pred)\n",
    "Accuracy"
   ]
  },
  {
   "cell_type": "code",
   "execution_count": 43,
   "id": "dc83c27f",
   "metadata": {},
   "outputs": [
    {
     "data": {
      "text/plain": [
       "0.746268656716418"
      ]
     },
     "execution_count": 43,
     "metadata": {},
     "output_type": "execute_result"
    }
   ],
   "source": [
    "Precision = metrics.precision_score(y_test,y_pred)\n",
    "Precision"
   ]
  },
  {
   "cell_type": "code",
   "execution_count": 44,
   "id": "bb23c15e",
   "metadata": {},
   "outputs": [
    {
     "data": {
      "text/plain": [
       "0.9433962264150944"
      ]
     },
     "execution_count": 44,
     "metadata": {},
     "output_type": "execute_result"
    }
   ],
   "source": [
    "Sensitivity_recall = metrics.recall_score(y_test,y_pred)\n",
    "Sensitivity_recall"
   ]
  },
  {
   "cell_type": "code",
   "execution_count": 45,
   "id": "01d6178f",
   "metadata": {},
   "outputs": [
    {
     "data": {
      "text/plain": [
       "0.8333333333333333"
      ]
     },
     "execution_count": 45,
     "metadata": {},
     "output_type": "execute_result"
    }
   ],
   "source": [
    "F1_score = metrics.f1_score(y_test,y_pred)\n",
    "F1_score"
   ]
  },
  {
   "cell_type": "code",
   "execution_count": 46,
   "id": "3066423f",
   "metadata": {},
   "outputs": [
    {
     "data": {
      "text/plain": [
       "0.8223604977920513"
      ]
     },
     "execution_count": 46,
     "metadata": {},
     "output_type": "execute_result"
    }
   ],
   "source": [
    "y_pred_prob=drugtree.predict_proba(x_test)[:,1]\n",
    "roc_auc_score(y_test,y_pred_prob)"
   ]
  },
  {
   "cell_type": "code",
   "execution_count": 47,
   "id": "68aec10f",
   "metadata": {},
   "outputs": [],
   "source": [
    "cv_results = cross_validate(drugtree, x, y, cv=10,return_train_score=True)"
   ]
  },
  {
   "cell_type": "code",
   "execution_count": 48,
   "id": "8beb8f35",
   "metadata": {},
   "outputs": [
    {
     "data": {
      "text/plain": [
       "0.7750537634408602"
      ]
     },
     "execution_count": 48,
     "metadata": {},
     "output_type": "execute_result"
    }
   ],
   "source": [
    "cv_results['test_score'].mean()"
   ]
  },
  {
   "cell_type": "code",
   "execution_count": 49,
   "id": "ceeadec0",
   "metadata": {},
   "outputs": [
    {
     "data": {
      "text/plain": [
       "0.8734385174734101"
      ]
     },
     "execution_count": 49,
     "metadata": {},
     "output_type": "execute_result"
    }
   ],
   "source": [
    "cv_results['train_score'].mean()"
   ]
  },
  {
   "cell_type": "code",
   "execution_count": 50,
   "id": "52da4a0a",
   "metadata": {},
   "outputs": [
    {
     "name": "stdout",
     "output_type": "stream",
     "text": [
      "Decision Tree [0.80685484 0.83904675 0.79722222 0.8338945  0.8        0.63210975\n",
      " 0.69899889 0.73333333 0.6989899  0.76266667] 0.7603116851995421\n",
      "Logestic Regression [0.86700623 0.80438379 0.83238095 0.9003367  0.83277217 0.79821429\n",
      " 0.86546003 0.86546003 0.68766157 0.73092006] 0.8184595813314461\n",
      "Random forest [0.90134263 0.83802697 0.86666667 0.93363095 0.89828571 0.83277716\n",
      " 0.76588103 0.83047619 0.72592593 0.76588103] 0.8358894274652803\n",
      "Adaboost [0.90134263 0.83802697 0.7674523  0.93363095 0.86296296 0.79821429\n",
      " 0.76588103 0.8        0.73092006 0.76266667] 0.8161097861404787\n"
     ]
    }
   ],
   "source": [
    "from sklearn.ensemble import RandomForestClassifier\n",
    "from sklearn.ensemble import AdaBoostClassifier\n",
    "from sklearn.model_selection import cross_val_score\n",
    "models={'Decision Tree':DecisionTreeClassifier(),\n",
    "       'Logestic Regression':LogisticRegression(),\n",
    "       'Random forest':RandomForestClassifier(),\n",
    "       'Adaboost':AdaBoostClassifier()}\n",
    "for name,model in models.items():\n",
    "    scores=cross_val_score(model,x,y,cv=10,scoring='f1_weighted')\n",
    "    print(name,scores,scores.mean())"
   ]
  },
  {
   "cell_type": "code",
   "execution_count": 51,
   "id": "f0786f0d",
   "metadata": {},
   "outputs": [
    {
     "name": "stdout",
     "output_type": "stream",
     "text": [
      "[[32 15]\n",
      " [ 3 50]]\n",
      "              precision    recall  f1-score   support\n",
      "\n",
      "           0       0.91      0.68      0.78        47\n",
      "           1       0.77      0.94      0.85        53\n",
      "\n",
      "    accuracy                           0.82       100\n",
      "   macro avg       0.84      0.81      0.81       100\n",
      "weighted avg       0.84      0.82      0.82       100\n",
      "\n"
     ]
    }
   ],
   "source": [
    "randomforest=RandomForestClassifier()\n",
    "randomforest.fit(x_train,y_train)\n",
    "rf_prid=randomforest.predict(x_test)\n",
    "print(confusion_matrix(y_test, rf_prid))\n",
    "print(classification_report(y_test, rf_prid))"
   ]
  },
  {
   "cell_type": "code",
   "execution_count": 52,
   "id": "be207595",
   "metadata": {},
   "outputs": [
    {
     "name": "stdout",
     "output_type": "stream",
     "text": [
      "randomforest_score test: 0.820000\n",
      "randomforest_score train: 1.000000\n"
     ]
    }
   ],
   "source": [
    "randomforest_score=randomforest.score(x_test,y_test)\n",
    "print('randomforest_score test: %f' %randomforest_score)\n",
    "randomforest_score=randomforest.score(x_train,y_train)\n",
    "print('randomforest_score train: %f' %randomforest_score)"
   ]
  },
  {
   "cell_type": "code",
   "execution_count": 53,
   "id": "e4436a9e",
   "metadata": {},
   "outputs": [],
   "source": [
    "cv_results = cross_validate(randomforest, x, y, cv=10,return_train_score=True)"
   ]
  },
  {
   "cell_type": "code",
   "execution_count": 54,
   "id": "66c59e16",
   "metadata": {},
   "outputs": [
    {
     "data": {
      "text/plain": [
       "['fit_time', 'score_time', 'test_score', 'train_score']"
      ]
     },
     "execution_count": 54,
     "metadata": {},
     "output_type": "execute_result"
    }
   ],
   "source": [
    "sorted(cv_results.keys())"
   ]
  },
  {
   "cell_type": "code",
   "execution_count": 55,
   "id": "1dc778d1",
   "metadata": {},
   "outputs": [
    {
     "data": {
      "text/plain": [
       "0.8343010752688171"
      ]
     },
     "execution_count": 55,
     "metadata": {},
     "output_type": "execute_result"
    }
   ],
   "source": [
    "cv_results['test_score'].mean()"
   ]
  },
  {
   "cell_type": "code",
   "execution_count": 56,
   "id": "651c2d23",
   "metadata": {},
   "outputs": [
    {
     "data": {
      "text/plain": [
       "1.0"
      ]
     },
     "execution_count": 56,
     "metadata": {},
     "output_type": "execute_result"
    }
   ],
   "source": [
    "cv_results['train_score'].mean()"
   ]
  },
  {
   "cell_type": "code",
   "execution_count": null,
   "id": "bdebdd47",
   "metadata": {},
   "outputs": [],
   "source": []
  },
  {
   "cell_type": "code",
   "execution_count": null,
   "id": "da5159a9",
   "metadata": {},
   "outputs": [],
   "source": []
  },
  {
   "cell_type": "code",
   "execution_count": null,
   "id": "fb620e31",
   "metadata": {},
   "outputs": [],
   "source": []
  }
 ],
 "metadata": {
  "kernelspec": {
   "display_name": "Python 3 (ipykernel)",
   "language": "python",
   "name": "python3"
  },
  "language_info": {
   "codemirror_mode": {
    "name": "ipython",
    "version": 3
   },
   "file_extension": ".py",
   "mimetype": "text/x-python",
   "name": "python",
   "nbconvert_exporter": "python",
   "pygments_lexer": "ipython3",
   "version": "3.9.12"
  }
 },
 "nbformat": 4,
 "nbformat_minor": 5
}
